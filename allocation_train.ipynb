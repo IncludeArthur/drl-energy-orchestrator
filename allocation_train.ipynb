{
 "cells": [
  {
   "cell_type": "code",
   "execution_count": 1,
   "id": "5ba930dd-ff6a-44ab-bd05-106901b7c5c0",
   "metadata": {},
   "outputs": [
    {
     "name": "stderr",
     "output_type": "stream",
     "text": [
      "2024-07-18 12:32:48.549335: I tensorflow/core/util/port.cc:113] oneDNN custom operations are on. You may see slightly different numerical results due to floating-point round-off errors from different computation orders. To turn them off, set the environment variable `TF_ENABLE_ONEDNN_OPTS=0`.\n",
      "2024-07-18 12:32:48.551052: I external/local_tsl/tsl/cuda/cudart_stub.cc:31] Could not find cuda drivers on your machine, GPU will not be used.\n",
      "2024-07-18 12:32:48.574980: E external/local_xla/xla/stream_executor/cuda/cuda_dnn.cc:9261] Unable to register cuDNN factory: Attempting to register factory for plugin cuDNN when one has already been registered\n",
      "2024-07-18 12:32:48.575004: E external/local_xla/xla/stream_executor/cuda/cuda_fft.cc:607] Unable to register cuFFT factory: Attempting to register factory for plugin cuFFT when one has already been registered\n",
      "2024-07-18 12:32:48.575642: E external/local_xla/xla/stream_executor/cuda/cuda_blas.cc:1515] Unable to register cuBLAS factory: Attempting to register factory for plugin cuBLAS when one has already been registered\n",
      "2024-07-18 12:32:48.579324: I external/local_tsl/tsl/cuda/cudart_stub.cc:31] Could not find cuda drivers on your machine, GPU will not be used.\n",
      "2024-07-18 12:32:48.579660: I tensorflow/core/platform/cpu_feature_guard.cc:182] This TensorFlow binary is optimized to use available CPU instructions in performance-critical operations.\n",
      "To enable the following instructions: AVX2 AVX512F AVX512_VNNI FMA, in other operations, rebuild TensorFlow with the appropriate compiler flags.\n",
      "2024-07-18 12:32:49.108046: W tensorflow/compiler/tf2tensorrt/utils/py_utils.cc:38] TF-TRT Warning: Could not find TensorRT\n"
     ]
    }
   ],
   "source": [
    "import gymnasium as gym\n",
    "import numpy as np\n",
    "import torch as th\n",
    "import json\n",
    "import math\n",
    "from gymnasium.wrappers import FlattenObservation, TimeLimit\n",
    "from typing import Callable\n",
    "from stable_baselines3.common.vec_env import VecNormalize\n",
    "from stable_baselines3.common.env_util import make_vec_env\n",
    "from stable_baselines3.common.monitor import Monitor\n",
    "from stable_baselines3 import PPO, A2C, DQN, TD3\n",
    "from stable_baselines3.common.noise import NormalActionNoise\n",
    "from stable_baselines3.common.callbacks import BaseCallback, EvalCallback\n",
    "from sb3_contrib import MaskablePPO, RecurrentPPO\n",
    "#from stable_baselines3.common.evaluation import evaluate_policy\n",
    "from sb3_contrib.common.maskable.evaluation import evaluate_policy\n",
    "#from nfv_allocation_env import NfvAllocEnv\n",
    "from nfv_allocation_cpu_env import NfvAllocEnv\n",
    "from nfv_allocation_cpu_env_duration import NfvAllocEnvDuration\n",
    "from nfv_allocation_cpu_env_rew import NfvAllocEnvRew\n",
    "from env_utils import PDUSession"
   ]
  },
  {
   "cell_type": "code",
   "execution_count": 2,
   "id": "5e87579a-cf53-47cf-b85a-76c370da0586",
   "metadata": {},
   "outputs": [
    {
     "name": "stdout",
     "output_type": "stream",
     "text": [
      "[3726753924, 3726753925, 3726753926, 3726753927, 3726753928, 3726753929, 3726753930, 3726753931]\n"
     ]
    },
    {
     "name": "stderr",
     "output_type": "stream",
     "text": [
      "/home/ubuntu/.local/lib/python3.10/site-packages/gymnasium/core.py:311: UserWarning: \u001b[33mWARN: env.set_gamma to get variables from other wrappers is deprecated and will be removed in v1.0, to get this variable you can do `env.unwrapped.set_gamma` for environment variables or `env.get_wrapper_attr('set_gamma')` that will search the reminding wrappers.\u001b[0m\n",
      "  logger.warn(\n"
     ]
    }
   ],
   "source": [
    "qi_dict = {3:0.3, 5:0.4, 9:0.3}\n",
    "#qi_dict = {3:1.0}\n",
    "env_kwargs={'config_file': 'nuc_host_models.json', 'obs_metric':'cpu', 'rw_metric':'cpu', 'flat_lerr': True, 'dt_scale': 1.5, 'duration_mean':40, 'duration_scale':5, 'qi_dict': qi_dict}\n",
    "log_dir = \"logs/alloc/PPO_sb3_.monitor.csv\"\n",
    "info_keys = ['qos_breach','power_per_mbit','latency_error','allocation_error','total_power','total_traffic','reward']\n",
    "seed = None\n",
    "parallel_envs = 8\n",
    "gamma = 0.05\n",
    "\n",
    "def make_env(**env_par):\n",
    "    env = NfvAllocEnvRew(**env_par)\n",
    "    # flatten observation space from Dict to vector\n",
    "    #env = FlattenObservation(env)\n",
    "    # add time limit to create episodes\n",
    "    env = TimeLimit(env, 1000)\n",
    "    # add Monitor wrapper (already added by make_vec_env?)\n",
    "    env = Monitor(env, log_dir, info_keywords=tuple(info_keys))\n",
    "    env.set_gamma(gamma)\n",
    "    return env\n",
    "\n",
    "# Instantiate the env\n",
    "vec_env = make_vec_env(make_env, n_envs=parallel_envs, seed=seed, env_kwargs=env_kwargs)\n",
    "vec_env = VecNormalize(vec_env, norm_reward=False) #, norm_obs= False\n",
    "\n",
    "env_seeds = vec_env.seed(seed)\n",
    "vec_env.reset()\n",
    "\n",
    "print(env_seeds)\n",
    "\n",
    "#env = make_env(**env_kwargs)\n",
    "#env.print_env()\n",
    "\n",
    "#model_name = f\"PPO_scale{env_kwargs['dt_scale']}_env{parallel_envs}_{env_kwargs['config_file'].split('_')[0]}_{env_kwargs['obs_metric']}_{env_kwargs['rw_metric']}_seed{seed}_g{math.modf(gamma)[0]}_qi359_p631\"\n",
    "#print(model_name)"
   ]
  },
  {
   "cell_type": "code",
   "execution_count": 3,
   "id": "dd3e5817-7772-46f4-aa23-3fcef073c419",
   "metadata": {},
   "outputs": [
    {
     "name": "stdout",
     "output_type": "stream",
     "text": [
      "PPO_rew10_net128_nodur_scale1.5_env8_nuc_cpu_qi359_p343\n"
     ]
    }
   ],
   "source": [
    "#eval_env = make_vec_env(make_env, n_envs=1, env_kwargs=env_kwargs)\n",
    "#eval_env = make_env(**env_kwargs)\n",
    "#eval_callback = EvalCallback(eval_env, log_path= log_dir, eval_freq=500, deterministic=True, render=False)\n",
    "#Recurrent\n",
    "#model_name = f\"PPO_rew10_net128_scale{env_kwargs['dt_scale']}_env{parallel_envs}_{env_kwargs['config_file'].split('_')[0]}_{env_kwargs['obs_metric']}_llearn_flat_npseed{seed}_g{str(gamma%1)[2:]}_qi359_p343\"\n",
    "model_name = f\"PPO_rew10_net128_nodur_scale{env_kwargs['dt_scale']}_env{parallel_envs}_{env_kwargs['config_file'].split('_')[0]}_{env_kwargs['obs_metric']}_qi359_p343\"\n",
    "print(model_name)"
   ]
  },
  {
   "cell_type": "code",
   "execution_count": 4,
   "id": "a5dd0af3-74ed-4906-91a5-23eec32da656",
   "metadata": {},
   "outputs": [],
   "source": [
    "class TensorboardCallback(BaseCallback):\n",
    "    \"\"\"\n",
    "    Custom callback for plotting additional values in tensorboard.\n",
    "    \"\"\"\n",
    "\n",
    "    def __init__(self, verbose=0):\n",
    "        super().__init__(verbose)\n",
    "        self.episode_errors = 0\n",
    "        self.ppms = 0\n",
    "        self.step_count = 0\n",
    "\n",
    "    def _on_step(self) -> bool:\n",
    "        self.step_count +=1\n",
    "        # Log power per mbit\n",
    "        ppm = self.training_env.env_method(\"power_per_mbit\")[0]\n",
    "        self.ppms += ppm\n",
    "        #self.logger.record(\"rollout/power_per_mbit\", ppm)\n",
    "\n",
    "        le = self.training_env.get_attr(\"latency_error\")[0]\n",
    "        #self.logger.record(\"rollout/latency_error\", max(le,0) ) #positive values are latencies better than the required\n",
    "\n",
    "        if le>0:\n",
    "            self.episode_errors +=1\n",
    "        if self.step_count >= 1000:\n",
    "            self.logger.record(\"rollout/episodes_errors\", self.episode_errors)\n",
    "            self.episode_errors = 0\n",
    "            self.logger.record(\"rollout/power_per_mbit\", self.ppms/self.step_count)\n",
    "            self.ppms = 0\n",
    "            self.step_count = 0\n",
    "        \n",
    "        return True"
   ]
  },
  {
   "cell_type": "code",
   "execution_count": 5,
   "id": "1b33282e-6cd1-48dc-a065-3e94dc6a10e4",
   "metadata": {},
   "outputs": [],
   "source": [
    "def linear_schedule(initial_value: float) -> Callable[[float], float]:\n",
    "    \"\"\"\n",
    "    Linear learning rate schedule.\n",
    "\n",
    "    :param initial_value: Initial learning rate.\n",
    "    :return: schedule that computes\n",
    "      current learning rate depending on remaining progress\n",
    "    \"\"\"\n",
    "    def func(progress_remaining: float) -> float:\n",
    "        \"\"\"\n",
    "        Progress will decrease from 1 (beginning) to 0.\n",
    "\n",
    "        :param progress_remaining:\n",
    "        :return: current learning rate\n",
    "        \"\"\"\n",
    "        return progress_remaining * initial_value\n",
    "\n",
    "    return func"
   ]
  },
  {
   "cell_type": "code",
   "execution_count": 6,
   "id": "a8a93d44-d85b-48ba-ae06-8b9b5d64f3f3",
   "metadata": {},
   "outputs": [],
   "source": [
    "# Custom actor (pi) and value function (vf) networks\n",
    "# of two layers of size 128 each with Relu activation function\n",
    "# Note: an extra linear layer will be added on top of the pi and the vf nets, respectively\n",
    "policy_kwargs = dict(activation_fn=th.nn.ReLU,\n",
    "                     net_arch=dict(pi=[128, 128], vf=[128, 128]))"
   ]
  },
  {
   "cell_type": "code",
   "execution_count": 7,
   "id": "7c117216-5252-43ec-ba5e-7d9fdd4d04b3",
   "metadata": {},
   "outputs": [
    {
     "data": {
      "application/vnd.jupyter.widget-view+json": {
       "model_id": "c7ae3b1497a34ec4bd3746d79bdb7a92",
       "version_major": 2,
       "version_minor": 0
      },
      "text/plain": [
       "Output()"
      ]
     },
     "metadata": {},
     "output_type": "display_data"
    },
    {
     "data": {
      "text/html": [
       "<pre style=\"white-space:pre;overflow-x:auto;line-height:normal;font-family:Menlo,'DejaVu Sans Mono',consolas,'Courier New',monospace\">/home/ubuntu/.local/lib/python3.10/site-packages/gymnasium/core.py:311: UserWarning: <span style=\"color: #808000; text-decoration-color: #808000\">WARN: env.action_masks to get </span>\n",
       "<span style=\"color: #808000; text-decoration-color: #808000\">variables from other wrappers is deprecated and will be removed in v1.0, to get this variable you can do </span>\n",
       "<span style=\"color: #808000; text-decoration-color: #808000\">`env.unwrapped.action_masks` for environment variables or `env.get_wrapper_attr('action_masks')` that will search </span>\n",
       "<span style=\"color: #808000; text-decoration-color: #808000\">the reminding wrappers.</span>\n",
       "  logger.warn(\n",
       "</pre>\n"
      ],
      "text/plain": [
       "/home/ubuntu/.local/lib/python3.10/site-packages/gymnasium/core.py:311: UserWarning: \u001b[33mWARN: env.action_masks to get \u001b[0m\n",
       "\u001b[33mvariables from other wrappers is deprecated and will be removed in v1.0, to get this variable you can do \u001b[0m\n",
       "\u001b[33m`env.unwrapped.action_masks` for environment variables or `env.get_wrapper_attr('action_masks')` that will search \u001b[0m\n",
       "\u001b[33mthe reminding wrappers.\u001b[0m\n",
       "  logger.warn(\n"
      ]
     },
     "metadata": {},
     "output_type": "display_data"
    },
    {
     "data": {
      "text/html": [
       "<pre style=\"white-space:pre;overflow-x:auto;line-height:normal;font-family:Menlo,'DejaVu Sans Mono',consolas,'Courier New',monospace\">/home/ubuntu/.local/lib/python3.10/site-packages/gymnasium/core.py:311: UserWarning: <span style=\"color: #808000; text-decoration-color: #808000\">WARN: env.power_per_mbit to </span>\n",
       "<span style=\"color: #808000; text-decoration-color: #808000\">get variables from other wrappers is deprecated and will be removed in v1.0, to get this variable you can do </span>\n",
       "<span style=\"color: #808000; text-decoration-color: #808000\">`env.unwrapped.power_per_mbit` for environment variables or `env.get_wrapper_attr('power_per_mbit')` that will </span>\n",
       "<span style=\"color: #808000; text-decoration-color: #808000\">search the reminding wrappers.</span>\n",
       "  logger.warn(\n",
       "</pre>\n"
      ],
      "text/plain": [
       "/home/ubuntu/.local/lib/python3.10/site-packages/gymnasium/core.py:311: UserWarning: \u001b[33mWARN: env.power_per_mbit to \u001b[0m\n",
       "\u001b[33mget variables from other wrappers is deprecated and will be removed in v1.0, to get this variable you can do \u001b[0m\n",
       "\u001b[33m`env.unwrapped.power_per_mbit` for environment variables or `env.get_wrapper_attr('power_per_mbit')` that will \u001b[0m\n",
       "\u001b[33msearch the reminding wrappers.\u001b[0m\n",
       "  logger.warn(\n"
      ]
     },
     "metadata": {},
     "output_type": "display_data"
    },
    {
     "data": {
      "text/html": [
       "<pre style=\"white-space:pre;overflow-x:auto;line-height:normal;font-family:Menlo,'DejaVu Sans Mono',consolas,'Courier New',monospace\">/home/ubuntu/.local/lib/python3.10/site-packages/gymnasium/core.py:311: UserWarning: <span style=\"color: #808000; text-decoration-color: #808000\">WARN: env.latency_error to get</span>\n",
       "<span style=\"color: #808000; text-decoration-color: #808000\">variables from other wrappers is deprecated and will be removed in v1.0, to get this variable you can do </span>\n",
       "<span style=\"color: #808000; text-decoration-color: #808000\">`env.unwrapped.latency_error` for environment variables or `env.get_wrapper_attr('latency_error')` that will search</span>\n",
       "<span style=\"color: #808000; text-decoration-color: #808000\">the reminding wrappers.</span>\n",
       "  logger.warn(\n",
       "</pre>\n"
      ],
      "text/plain": [
       "/home/ubuntu/.local/lib/python3.10/site-packages/gymnasium/core.py:311: UserWarning: \u001b[33mWARN: env.latency_error to get\u001b[0m\n",
       "\u001b[33mvariables from other wrappers is deprecated and will be removed in v1.0, to get this variable you can do \u001b[0m\n",
       "\u001b[33m`env.unwrapped.latency_error` for environment variables or `env.get_wrapper_attr('latency_error')` that will search\u001b[0m\n",
       "\u001b[33mthe reminding wrappers.\u001b[0m\n",
       "  logger.warn(\n"
      ]
     },
     "metadata": {},
     "output_type": "display_data"
    },
    {
     "data": {
      "text/html": [
       "<pre style=\"white-space:pre;overflow-x:auto;line-height:normal;font-family:Menlo,'DejaVu Sans Mono',consolas,'Courier New',monospace\"></pre>\n"
      ],
      "text/plain": []
     },
     "metadata": {},
     "output_type": "display_data"
    },
    {
     "data": {
      "text/html": [
       "<pre style=\"white-space:pre;overflow-x:auto;line-height:normal;font-family:Menlo,'DejaVu Sans Mono',consolas,'Courier New',monospace\">\n",
       "</pre>\n"
      ],
      "text/plain": [
       "\n"
      ]
     },
     "metadata": {},
     "output_type": "display_data"
    }
   ],
   "source": [
    "# Train the agent\n",
    "total_timesteps = 6_000_000\n",
    "\n",
    "#batch_size=32, n_steps=100,\n",
    "model = MaskablePPO('MlpPolicy', vec_env, learning_rate=linear_schedule(0.001), gamma=0.95, batch_size=128, policy_kwargs=policy_kwargs, seed=seed, verbose=0, tensorboard_log=\"./nfv_allocation_tensorboard/\") #policy_kwargs=policy_kwargs\n",
    "#model = RecurrentPPO('MlpLstmPolicy', vec_env, learning_rate=linear_schedule(0.001), gamma=0.95, seed=seed, verbose=0, tensorboard_log=\"./nfv_allocation_tensorboard/\")\n",
    "#model = A2C('MlpPolicy', vec_env, gamma=0.99, seed=seed, verbose=0, tensorboard_log=\"./nfv_allocation_tensorboard/\")\n",
    "#model = DQN('MlpPolicy', vec_env, learning_rate=linear_schedule(0.001), gamma=0.99, seed=seed, verbose=0, tensorboard_log=\"./nfv_allocation_tensorboard/\")\n",
    "\n",
    "model.learn(total_timesteps, progress_bar=True, tb_log_name=model_name, callback=TensorboardCallback());"
   ]
  },
  {
   "cell_type": "code",
   "execution_count": 8,
   "id": "628e5ba4-2036-4787-8376-b219e43af04a",
   "metadata": {},
   "outputs": [],
   "source": [
    "#model.save(f'saved models/{model_name}_onlylat')"
   ]
  },
  {
   "cell_type": "code",
   "execution_count": 9,
   "id": "2bb7482a-c8eb-4315-8400-bdafdb3f1c3f",
   "metadata": {},
   "outputs": [],
   "source": [
    "#model = MaskablePPO.load(path='saved models/PPO_rew10_net128_scale1.5_env8_nuc_cpu_llearn_flat_npseedNone_g05_qi359_p343_onlylat', env=vec_env)"
   ]
  },
  {
   "cell_type": "code",
   "execution_count": 10,
   "id": "1fd5d20c-587a-4b5e-8f5c-d30c74c91494",
   "metadata": {},
   "outputs": [],
   "source": [
    "curriculum = False\n",
    "#cur_scale = 0.5\n",
    "\n",
    "if curriculum:\n",
    "    curriculum_timesteps = 5_000_000\n",
    "\n",
    "    #vec_env.env_method(\"set_dt_scale\", cur_scale)\n",
    "    vec_env.env_method(\"set_rw_metric\", \"cpu\")\n",
    "    model.learn(total_timesteps, progress_bar=True, tb_log_name=model_name+'_C_latrew', callback=TensorboardCallback());"
   ]
  },
  {
   "cell_type": "code",
   "execution_count": 11,
   "id": "2e25232e-9b58-425c-aceb-2259a8ed393f",
   "metadata": {},
   "outputs": [],
   "source": [
    "model.save(f'saved models/{model_name}')"
   ]
  },
  {
   "cell_type": "code",
   "execution_count": 12,
   "id": "7c50d24c-358d-4709-bb0f-a24b554d8b01",
   "metadata": {},
   "outputs": [
    {
     "name": "stdout",
     "output_type": "stream",
     "text": [
      "training env evaluation\n"
     ]
    },
    {
     "data": {
      "text/plain": [
       "(823.3375106, 4.066744770368366)"
      ]
     },
     "execution_count": 12,
     "metadata": {},
     "output_type": "execute_result"
    }
   ],
   "source": [
    "print('training env evaluation')\n",
    "evaluate_policy(model, vec_env, n_eval_episodes=10, warn=False)"
   ]
  },
  {
   "cell_type": "code",
   "execution_count": 13,
   "id": "1727a650-8ca8-4967-95e3-38e98097ccbb",
   "metadata": {},
   "outputs": [
    {
     "name": "stderr",
     "output_type": "stream",
     "text": [
      "/home/ubuntu/.local/lib/python3.10/site-packages/gymnasium/core.py:311: UserWarning: \u001b[33mWARN: env.set_gamma to get variables from other wrappers is deprecated and will be removed in v1.0, to get this variable you can do `env.unwrapped.set_gamma` for environment variables or `env.get_wrapper_attr('set_gamma')` that will search the reminding wrappers.\u001b[0m\n",
      "  logger.warn(\n"
     ]
    },
    {
     "name": "stdout",
     "output_type": "stream",
     "text": [
      "test env evaluation\n"
     ]
    },
    {
     "data": {
      "text/plain": [
       "(-96.43053330000001, 28.017483312351533)"
      ]
     },
     "execution_count": 13,
     "metadata": {},
     "output_type": "execute_result"
    }
   ],
   "source": [
    "ev_seed = None#seed\n",
    "ev_env = make_vec_env(make_env, n_envs=parallel_envs, seed=ev_seed, env_kwargs=env_kwargs)\n",
    "ev_env = VecNormalize(ev_env, norm_reward=False) \n",
    "ev_env.seed(ev_seed)\n",
    "ev_env.reset()\n",
    "print('test env evaluation')\n",
    "evaluate_policy(model, ev_env, n_eval_episodes=10, warn=False)"
   ]
  },
  {
   "cell_type": "code",
   "execution_count": 14,
   "id": "f19c2231-1071-422b-a3b0-d048108d900c",
   "metadata": {},
   "outputs": [],
   "source": [
    "#vec_env.env_method(\"print_env\")"
   ]
  }
 ],
 "metadata": {
  "kernelspec": {
   "display_name": "Python 3 (ipykernel)",
   "language": "python",
   "name": "python3"
  },
  "language_info": {
   "codemirror_mode": {
    "name": "ipython",
    "version": 3
   },
   "file_extension": ".py",
   "mimetype": "text/x-python",
   "name": "python",
   "nbconvert_exporter": "python",
   "pygments_lexer": "ipython3",
   "version": "3.10.12"
  }
 },
 "nbformat": 4,
 "nbformat_minor": 5
}
