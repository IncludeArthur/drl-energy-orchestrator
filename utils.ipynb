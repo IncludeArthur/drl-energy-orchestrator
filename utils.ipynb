{
 "cells": [
  {
   "cell_type": "code",
   "execution_count": 1,
   "id": "338fd934-ef56-4721-9809-9739c2301246",
   "metadata": {},
   "outputs": [],
   "source": [
    "import numpy as np\n",
    "import math"
   ]
  },
  {
   "cell_type": "code",
   "execution_count": 14,
   "id": "1e0a9017-6a78-45f8-9bf9-38d3d293abe3",
   "metadata": {},
   "outputs": [
    {
     "name": "stdout",
     "output_type": "stream",
     "text": [
      "[6.36, 7.81, 9.26, 10.71, 12.16, 13.61, 15.07, 16.52, 17.97, 19.42, 20.87]\n",
      "[9.73, 10.31, 10.89, 11.47, 12.06, 12.64, 13.22, 13.8, 14.38, 14.97, 15.55]\n",
      "[9.99, 12.3, 14.62, 16.94, 19.25, 21.57, 23.89, 26.2, 28.52, 30.84, 33.15]\n",
      "[3.5, 7.58, 11.65, 15.72, 19.8, 23.87, 27.95, 32.02, 36.1, 40.17, 44.24]\n",
      "[5.79, 7.8, 9.81, 11.82, 13.83, 15.84, 17.85, 19.86, 21.87, 23.88, 25.89]\n",
      "[4.63, 8.09, 11.55, 15.01, 18.48, 21.94, 25.4, 28.86, 32.33, 35.79, 39.25]\n"
     ]
    }
   ],
   "source": [
    "lists = 6\n",
    "start_range = [2,10]\n",
    "end_range = [15,50]\n",
    "\n",
    "rng = np.random.default_rng()\n",
    "\n",
    "for i in range(lists):\n",
    "    model=[]\n",
    "    start = rng.uniform(start_range[0], start_range[1])\n",
    "    end = rng.uniform(end_range[0], end_range[1])\n",
    "    for step in range(10):\n",
    "        model.append(float('%.2f'%(step*(end-start)/10 +start)))\n",
    "    model.append(float('%.2f'%(end)))\n",
    "    print(model)"
   ]
  },
  {
   "cell_type": "code",
   "execution_count": 18,
   "id": "85e751ae-96b7-4ab1-bb8c-f694ec39e316",
   "metadata": {},
   "outputs": [
    {
     "name": "stdout",
     "output_type": "stream",
     "text": [
      "[3, 5, 9]\n",
      "[0.6, 0.3, 0.1]\n",
      "3\n",
      "3\n",
      "5\n",
      "3\n",
      "5\n",
      "5\n",
      "3\n",
      "3\n",
      "3\n",
      "5\n",
      "3\n",
      "3\n",
      "3\n",
      "5\n",
      "3\n",
      "5\n",
      "9\n",
      "5\n",
      "3\n",
      "3\n"
     ]
    }
   ],
   "source": [
    "qi_dict = {3:0.6, 5:0.3, 9:0.1}\n",
    "rng = np.random.default_rng(2)\n",
    "\n",
    "qi_list = list(qi_dict.keys())\n",
    "qi_prob = list(qi_dict.values())\n",
    "\n",
    "print(qi_list)\n",
    "print(qi_prob)\n",
    "\n",
    "for i in range(20):\n",
    "    qi = rng.choice(qi_list, p = qi_prob)\n",
    "    print(qi)"
   ]
  },
  {
   "cell_type": "code",
   "execution_count": null,
   "id": "4cb9a3f8-f049-4fbd-b57e-5dbed5aa300e",
   "metadata": {},
   "outputs": [],
   "source": [
    "def make_env(**env_par):\n",
    "    env = NfvAllocEnv(**env_par)\n",
    "    # flatten observation space from Dict to vector\n",
    "    #env = FlattenObservation(env)\n",
    "    # add time limit to create episodes\n",
    "    env = TimeLimit(env, 1000)\n",
    "    # add Monitor wrapper (already added by make_vec_env?)\n",
    "    env = Monitor(env, log_dir, info_keywords=tuple(info_keys))\n",
    "    env.set_gamma(gamma)\n",
    "    return env"
   ]
  },
  {
   "cell_type": "code",
   "execution_count": null,
   "id": "e1019916-4119-4fd2-b2bb-531923d52acf",
   "metadata": {},
   "outputs": [],
   "source": []
  }
 ],
 "metadata": {
  "kernelspec": {
   "display_name": "Python 3 (ipykernel)",
   "language": "python",
   "name": "python3"
  },
  "language_info": {
   "codemirror_mode": {
    "name": "ipython",
    "version": 3
   },
   "file_extension": ".py",
   "mimetype": "text/x-python",
   "name": "python",
   "nbconvert_exporter": "python",
   "pygments_lexer": "ipython3",
   "version": "3.10.12"
  }
 },
 "nbformat": 4,
 "nbformat_minor": 5
}
