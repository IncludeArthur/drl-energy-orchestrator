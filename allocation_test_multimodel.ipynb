{
 "cells": [
  {
   "cell_type": "code",
   "execution_count": 1,
   "id": "34396a2d-9750-4799-98dd-3f320617493a",
   "metadata": {},
   "outputs": [
    {
     "name": "stderr",
     "output_type": "stream",
     "text": [
      "2024-07-18 10:55:18.465596: I tensorflow/core/util/port.cc:113] oneDNN custom operations are on. You may see slightly different numerical results due to floating-point round-off errors from different computation orders. To turn them off, set the environment variable `TF_ENABLE_ONEDNN_OPTS=0`.\n",
      "2024-07-18 10:55:18.467385: I external/local_tsl/tsl/cuda/cudart_stub.cc:31] Could not find cuda drivers on your machine, GPU will not be used.\n",
      "2024-07-18 10:55:18.492913: E external/local_xla/xla/stream_executor/cuda/cuda_dnn.cc:9261] Unable to register cuDNN factory: Attempting to register factory for plugin cuDNN when one has already been registered\n",
      "2024-07-18 10:55:18.492937: E external/local_xla/xla/stream_executor/cuda/cuda_fft.cc:607] Unable to register cuFFT factory: Attempting to register factory for plugin cuFFT when one has already been registered\n",
      "2024-07-18 10:55:18.493581: E external/local_xla/xla/stream_executor/cuda/cuda_blas.cc:1515] Unable to register cuBLAS factory: Attempting to register factory for plugin cuBLAS when one has already been registered\n",
      "2024-07-18 10:55:18.497476: I external/local_tsl/tsl/cuda/cudart_stub.cc:31] Could not find cuda drivers on your machine, GPU will not be used.\n",
      "2024-07-18 10:55:18.498302: I tensorflow/core/platform/cpu_feature_guard.cc:182] This TensorFlow binary is optimized to use available CPU instructions in performance-critical operations.\n",
      "To enable the following instructions: AVX2 AVX512F AVX512_VNNI FMA, in other operations, rebuild TensorFlow with the appropriate compiler flags.\n",
      "2024-07-18 10:55:19.060323: W tensorflow/compiler/tf2tensorrt/utils/py_utils.cc:38] TF-TRT Warning: Could not find TensorRT\n"
     ]
    }
   ],
   "source": [
    "import numpy as np\n",
    "import pandas as pd\n",
    "import json\n",
    "import matplotlib.pyplot as plt\n",
    "from tqdm.notebook import tqdm\n",
    "import seaborn as sns\n",
    "from env_utils import PDUSession\n",
    "from nfv_allocation_cpu_env import NfvAllocEnv\n",
    "from nfv_allocation_cpu_env_duration import NfvAllocEnvDuration\n",
    "from nfv_allocation_cpu_env_rew import NfvAllocEnvRew\n",
    "from stable_baselines3.common.vec_env import DummyVecEnv, VecNormalize\n",
    "from sb3_contrib import MaskablePPO, RecurrentPPO"
   ]
  },
  {
   "cell_type": "code",
   "execution_count": 2,
   "id": "ee23377a-add9-4177-9e90-d7449b333e68",
   "metadata": {},
   "outputs": [],
   "source": [
    "#qi_dict = {3:0.6, 5:0.3, 9:0.1}\n",
    "qi_dict = {3:0.3, 5:0.4, 9:0.3}\n",
    "qi_dict = {3:1.0}\n",
    "env_pars_power={'config_file': 'synth3_host_models.json', 'obs_metric':'power', 'rw_metric':'power', 'flat_lerr': True, 'dt_scale': 1.5, 'duration_mean':40, 'duration_scale':5, 'qi_dict': qi_dict}\n",
    "env_pars_cpu={'config_file': 'synth3_host_models.json', 'obs_metric':'cpu', 'rw_metric':'power', 'flat_lerr': True, 'dt_scale': 1.5, 'duration_mean':40, 'duration_scale':5, 'qi_dict': qi_dict}\n",
    "#seed = 10\n",
    "gamma = 0.05\n",
    "n_steps = 1_000\n",
    "#test_dts = [1.0, 1.5, 2.0]\n",
    "test_dts = [1.5, 2.0, 2.5, 3.0]\n",
    "test_seeds = [10,11,12,13]\n",
    "\n",
    "envp = DummyVecEnv([lambda: NfvAllocEnvRew(**env_pars_power)])\n",
    "envp = VecNormalize(envp, norm_reward=False) \n",
    "\n",
    "envc = DummyVecEnv([lambda: NfvAllocEnvRew(**env_pars_cpu)])\n",
    "envc = VecNormalize(envc, norm_reward=False) \n",
    "\n",
    "envs=[envp,envc]\n",
    "\n",
    "f = open('5qi_table.json')\n",
    "qi_table = json.load(f)\n",
    "\n",
    "models = [\"PPO_rew10_net128_scale1.5_env8_synth3_power_qi3_p1\",\n",
    "          \"PPO_rew10_net128_scale1.5_env8_synth3_cpu_qi3_p1\"]\n",
    "\n",
    "#models = [\"PPO_rew_net128_scale1.5_env8_nuc_power_llearn_flat_npseedNone_g05_qi359_p343\",\n",
    "#         \"PPO_rew_net128_scale1.5_env8_nuc_cpu_llearn_flat_npseedNone_g05_qi359_p343\"]\n",
    "\n",
    "labels=['Power consumption', 'CPU utilization']"
   ]
  },
  {
   "cell_type": "code",
   "execution_count": 3,
   "id": "b16069af-15a4-47e5-aff9-30e15d104a3d",
   "metadata": {},
   "outputs": [],
   "source": [
    "#obs, info = env.reset(seed=seed)\n",
    "#print(obs.shape)\n",
    "#print(obs)\n",
    "#path = f'saved models/PPO_scale1.5_env8_synth_power_seed1_g05_qi359_p631'\n",
    "#m = MaskablePPO.load(path)\n",
    "#ve=m.get_vec_normalize_env()\n",
    "#print(ve)"
   ]
  },
  {
   "cell_type": "code",
   "execution_count": 4,
   "id": "a9908dcc-cc8e-4448-8781-6bb5b21b4141",
   "metadata": {},
   "outputs": [
    {
     "data": {
      "application/vnd.jupyter.widget-view+json": {
       "model_id": "27199540d24d4f0b8a19b512c3ab3c14",
       "version_major": 2,
       "version_minor": 0
      },
      "text/plain": [
       "  0%|          | 0/4 [00:00<?, ?it/s]"
      ]
     },
     "metadata": {},
     "output_type": "display_data"
    },
    {
     "data": {
      "application/vnd.jupyter.widget-view+json": {
       "model_id": "10b002018b7b4003932bb037c9a2896e",
       "version_major": 2,
       "version_minor": 0
      },
      "text/plain": [
       "  0%|          | 0/4 [00:00<?, ?it/s]"
      ]
     },
     "metadata": {},
     "output_type": "display_data"
    },
    {
     "data": {
      "application/vnd.jupyter.widget-view+json": {
       "model_id": "787a15df36bd49c78388bf41322d5d05",
       "version_major": 2,
       "version_minor": 0
      },
      "text/plain": [
       "  0%|          | 0/2 [00:00<?, ?it/s]"
      ]
     },
     "metadata": {},
     "output_type": "display_data"
    },
    {
     "data": {
      "application/vnd.jupyter.widget-view+json": {
       "model_id": "1b13a6192ed54b9cb439af0fe07c2af6",
       "version_major": 2,
       "version_minor": 0
      },
      "text/plain": [
       "  0%|          | 0/1000 [00:00<?, ?it/s]"
      ]
     },
     "metadata": {},
     "output_type": "display_data"
    },
    {
     "name": "stderr",
     "output_type": "stream",
     "text": [
      "/tmp/ipykernel_14874/2381427308.py:28: DeprecationWarning: Conversion of an array with ndim > 0 to a scalar is deprecated, and will error in future. Ensure you extract a single element from your array before performing this operation. (Deprecated NumPy 1.25.)\n",
      "  choices.append([labels[i], int(qi[0]), int(action[0])])\n"
     ]
    },
    {
     "data": {
      "application/vnd.jupyter.widget-view+json": {
       "model_id": "276ef6a8d53e47c48265aba73c6b38db",
       "version_major": 2,
       "version_minor": 0
      },
      "text/plain": [
       "  0%|          | 0/1000 [00:00<?, ?it/s]"
      ]
     },
     "metadata": {},
     "output_type": "display_data"
    },
    {
     "data": {
      "application/vnd.jupyter.widget-view+json": {
       "model_id": "5ea1a16599f04e5eb253ae00dfdc174d",
       "version_major": 2,
       "version_minor": 0
      },
      "text/plain": [
       "  0%|          | 0/2 [00:00<?, ?it/s]"
      ]
     },
     "metadata": {},
     "output_type": "display_data"
    },
    {
     "data": {
      "application/vnd.jupyter.widget-view+json": {
       "model_id": "4466ece08440425c830b1704edb28dec",
       "version_major": 2,
       "version_minor": 0
      },
      "text/plain": [
       "  0%|          | 0/1000 [00:00<?, ?it/s]"
      ]
     },
     "metadata": {},
     "output_type": "display_data"
    },
    {
     "data": {
      "application/vnd.jupyter.widget-view+json": {
       "model_id": "95d30362af0d4c638c2d07feaa87e246",
       "version_major": 2,
       "version_minor": 0
      },
      "text/plain": [
       "  0%|          | 0/1000 [00:00<?, ?it/s]"
      ]
     },
     "metadata": {},
     "output_type": "display_data"
    },
    {
     "data": {
      "application/vnd.jupyter.widget-view+json": {
       "model_id": "3d1c13b378374361b62673d6ae6082fa",
       "version_major": 2,
       "version_minor": 0
      },
      "text/plain": [
       "  0%|          | 0/2 [00:00<?, ?it/s]"
      ]
     },
     "metadata": {},
     "output_type": "display_data"
    },
    {
     "data": {
      "application/vnd.jupyter.widget-view+json": {
       "model_id": "b5b223e9a8624efaa8e260e87a0e6a8e",
       "version_major": 2,
       "version_minor": 0
      },
      "text/plain": [
       "  0%|          | 0/1000 [00:00<?, ?it/s]"
      ]
     },
     "metadata": {},
     "output_type": "display_data"
    },
    {
     "data": {
      "application/vnd.jupyter.widget-view+json": {
       "model_id": "eebe739b69b646deb7f4ce3ec95b146b",
       "version_major": 2,
       "version_minor": 0
      },
      "text/plain": [
       "  0%|          | 0/1000 [00:00<?, ?it/s]"
      ]
     },
     "metadata": {},
     "output_type": "display_data"
    },
    {
     "data": {
      "application/vnd.jupyter.widget-view+json": {
       "model_id": "8183442b79ac4c57b82644ca78317fe8",
       "version_major": 2,
       "version_minor": 0
      },
      "text/plain": [
       "  0%|          | 0/2 [00:00<?, ?it/s]"
      ]
     },
     "metadata": {},
     "output_type": "display_data"
    },
    {
     "data": {
      "application/vnd.jupyter.widget-view+json": {
       "model_id": "8bad2a8a09474e328c30306264d7a69b",
       "version_major": 2,
       "version_minor": 0
      },
      "text/plain": [
       "  0%|          | 0/1000 [00:00<?, ?it/s]"
      ]
     },
     "metadata": {},
     "output_type": "display_data"
    },
    {
     "data": {
      "application/vnd.jupyter.widget-view+json": {
       "model_id": "ee8d6e71f1ff48328e66205a5e04c5f1",
       "version_major": 2,
       "version_minor": 0
      },
      "text/plain": [
       "  0%|          | 0/1000 [00:00<?, ?it/s]"
      ]
     },
     "metadata": {},
     "output_type": "display_data"
    },
    {
     "data": {
      "application/vnd.jupyter.widget-view+json": {
       "model_id": "0299f97d5efd46b78453a945ca3a1032",
       "version_major": 2,
       "version_minor": 0
      },
      "text/plain": [
       "  0%|          | 0/4 [00:00<?, ?it/s]"
      ]
     },
     "metadata": {},
     "output_type": "display_data"
    },
    {
     "data": {
      "application/vnd.jupyter.widget-view+json": {
       "model_id": "66a4828aaf004d57bf1472b080c929b7",
       "version_major": 2,
       "version_minor": 0
      },
      "text/plain": [
       "  0%|          | 0/2 [00:00<?, ?it/s]"
      ]
     },
     "metadata": {},
     "output_type": "display_data"
    },
    {
     "data": {
      "application/vnd.jupyter.widget-view+json": {
       "model_id": "9cc2d1aa374a4422b52fc5f034b777e5",
       "version_major": 2,
       "version_minor": 0
      },
      "text/plain": [
       "  0%|          | 0/1000 [00:00<?, ?it/s]"
      ]
     },
     "metadata": {},
     "output_type": "display_data"
    },
    {
     "data": {
      "application/vnd.jupyter.widget-view+json": {
       "model_id": "0398e26001ab4f3bbd72345eef00b0f1",
       "version_major": 2,
       "version_minor": 0
      },
      "text/plain": [
       "  0%|          | 0/1000 [00:00<?, ?it/s]"
      ]
     },
     "metadata": {},
     "output_type": "display_data"
    },
    {
     "data": {
      "application/vnd.jupyter.widget-view+json": {
       "model_id": "8868868d1767414a985d07400c36b2f0",
       "version_major": 2,
       "version_minor": 0
      },
      "text/plain": [
       "  0%|          | 0/2 [00:00<?, ?it/s]"
      ]
     },
     "metadata": {},
     "output_type": "display_data"
    },
    {
     "data": {
      "application/vnd.jupyter.widget-view+json": {
       "model_id": "bc1e237f9f2b46759346062315d8ac5d",
       "version_major": 2,
       "version_minor": 0
      },
      "text/plain": [
       "  0%|          | 0/1000 [00:00<?, ?it/s]"
      ]
     },
     "metadata": {},
     "output_type": "display_data"
    },
    {
     "data": {
      "application/vnd.jupyter.widget-view+json": {
       "model_id": "c0e9b163fdfa4d89acc50f2b8ffec05a",
       "version_major": 2,
       "version_minor": 0
      },
      "text/plain": [
       "  0%|          | 0/1000 [00:00<?, ?it/s]"
      ]
     },
     "metadata": {},
     "output_type": "display_data"
    },
    {
     "data": {
      "application/vnd.jupyter.widget-view+json": {
       "model_id": "dee94d0bbb4344d7939109cba8c2bd81",
       "version_major": 2,
       "version_minor": 0
      },
      "text/plain": [
       "  0%|          | 0/2 [00:00<?, ?it/s]"
      ]
     },
     "metadata": {},
     "output_type": "display_data"
    },
    {
     "data": {
      "application/vnd.jupyter.widget-view+json": {
       "model_id": "f100c827b053413d846926f39732985e",
       "version_major": 2,
       "version_minor": 0
      },
      "text/plain": [
       "  0%|          | 0/1000 [00:00<?, ?it/s]"
      ]
     },
     "metadata": {},
     "output_type": "display_data"
    },
    {
     "data": {
      "application/vnd.jupyter.widget-view+json": {
       "model_id": "c5ca15b774c640daab4518794c670671",
       "version_major": 2,
       "version_minor": 0
      },
      "text/plain": [
       "  0%|          | 0/1000 [00:00<?, ?it/s]"
      ]
     },
     "metadata": {},
     "output_type": "display_data"
    },
    {
     "data": {
      "application/vnd.jupyter.widget-view+json": {
       "model_id": "d2bde5b2b6e243e99c803f9bd6a35ecc",
       "version_major": 2,
       "version_minor": 0
      },
      "text/plain": [
       "  0%|          | 0/2 [00:00<?, ?it/s]"
      ]
     },
     "metadata": {},
     "output_type": "display_data"
    },
    {
     "data": {
      "application/vnd.jupyter.widget-view+json": {
       "model_id": "735d7a26af944dacbbdbd941a04941f7",
       "version_major": 2,
       "version_minor": 0
      },
      "text/plain": [
       "  0%|          | 0/1000 [00:00<?, ?it/s]"
      ]
     },
     "metadata": {},
     "output_type": "display_data"
    },
    {
     "data": {
      "application/vnd.jupyter.widget-view+json": {
       "model_id": "153bbf6ed5414320af6e1a9da5a55d94",
       "version_major": 2,
       "version_minor": 0
      },
      "text/plain": [
       "  0%|          | 0/1000 [00:00<?, ?it/s]"
      ]
     },
     "metadata": {},
     "output_type": "display_data"
    },
    {
     "data": {
      "application/vnd.jupyter.widget-view+json": {
       "model_id": "73c91bca9a1a443387631d29c72c60d5",
       "version_major": 2,
       "version_minor": 0
      },
      "text/plain": [
       "  0%|          | 0/4 [00:00<?, ?it/s]"
      ]
     },
     "metadata": {},
     "output_type": "display_data"
    },
    {
     "data": {
      "application/vnd.jupyter.widget-view+json": {
       "model_id": "e5751d0478b04b34888fc9d7c67696da",
       "version_major": 2,
       "version_minor": 0
      },
      "text/plain": [
       "  0%|          | 0/2 [00:00<?, ?it/s]"
      ]
     },
     "metadata": {},
     "output_type": "display_data"
    },
    {
     "data": {
      "application/vnd.jupyter.widget-view+json": {
       "model_id": "51a293bb98e24f6584d264d3b654c3c6",
       "version_major": 2,
       "version_minor": 0
      },
      "text/plain": [
       "  0%|          | 0/1000 [00:00<?, ?it/s]"
      ]
     },
     "metadata": {},
     "output_type": "display_data"
    },
    {
     "data": {
      "application/vnd.jupyter.widget-view+json": {
       "model_id": "5502038e209c498bacded4bbd49834ab",
       "version_major": 2,
       "version_minor": 0
      },
      "text/plain": [
       "  0%|          | 0/1000 [00:00<?, ?it/s]"
      ]
     },
     "metadata": {},
     "output_type": "display_data"
    },
    {
     "data": {
      "application/vnd.jupyter.widget-view+json": {
       "model_id": "04b2005a1d1049ed886a817446e11cb0",
       "version_major": 2,
       "version_minor": 0
      },
      "text/plain": [
       "  0%|          | 0/2 [00:00<?, ?it/s]"
      ]
     },
     "metadata": {},
     "output_type": "display_data"
    },
    {
     "data": {
      "application/vnd.jupyter.widget-view+json": {
       "model_id": "885cec45e1fa444f8f050157b7a94e9a",
       "version_major": 2,
       "version_minor": 0
      },
      "text/plain": [
       "  0%|          | 0/1000 [00:00<?, ?it/s]"
      ]
     },
     "metadata": {},
     "output_type": "display_data"
    },
    {
     "data": {
      "application/vnd.jupyter.widget-view+json": {
       "model_id": "201215c81aa34202bbb762d6ebba2441",
       "version_major": 2,
       "version_minor": 0
      },
      "text/plain": [
       "  0%|          | 0/1000 [00:00<?, ?it/s]"
      ]
     },
     "metadata": {},
     "output_type": "display_data"
    },
    {
     "data": {
      "application/vnd.jupyter.widget-view+json": {
       "model_id": "ff525dacf0e54e388fb451772467f99c",
       "version_major": 2,
       "version_minor": 0
      },
      "text/plain": [
       "  0%|          | 0/2 [00:00<?, ?it/s]"
      ]
     },
     "metadata": {},
     "output_type": "display_data"
    },
    {
     "data": {
      "application/vnd.jupyter.widget-view+json": {
       "model_id": "1cdca912efce454c95b59c7d53d1f574",
       "version_major": 2,
       "version_minor": 0
      },
      "text/plain": [
       "  0%|          | 0/1000 [00:00<?, ?it/s]"
      ]
     },
     "metadata": {},
     "output_type": "display_data"
    },
    {
     "data": {
      "application/vnd.jupyter.widget-view+json": {
       "model_id": "de41e4139e864cb48ae3cf76f51c01b0",
       "version_major": 2,
       "version_minor": 0
      },
      "text/plain": [
       "  0%|          | 0/1000 [00:00<?, ?it/s]"
      ]
     },
     "metadata": {},
     "output_type": "display_data"
    },
    {
     "data": {
      "application/vnd.jupyter.widget-view+json": {
       "model_id": "0cb1fb9648f34f5d997f87d3535e4a2d",
       "version_major": 2,
       "version_minor": 0
      },
      "text/plain": [
       "  0%|          | 0/2 [00:00<?, ?it/s]"
      ]
     },
     "metadata": {},
     "output_type": "display_data"
    },
    {
     "data": {
      "application/vnd.jupyter.widget-view+json": {
       "model_id": "bb3263a525f14537a4f53888c93581a8",
       "version_major": 2,
       "version_minor": 0
      },
      "text/plain": [
       "  0%|          | 0/1000 [00:00<?, ?it/s]"
      ]
     },
     "metadata": {},
     "output_type": "display_data"
    },
    {
     "data": {
      "application/vnd.jupyter.widget-view+json": {
       "model_id": "735245bb0e8e4e82a82a44eb3094cdd1",
       "version_major": 2,
       "version_minor": 0
      },
      "text/plain": [
       "  0%|          | 0/1000 [00:00<?, ?it/s]"
      ]
     },
     "metadata": {},
     "output_type": "display_data"
    },
    {
     "data": {
      "application/vnd.jupyter.widget-view+json": {
       "model_id": "ab5780bb42604b789b6ab3c89f5c3fdd",
       "version_major": 2,
       "version_minor": 0
      },
      "text/plain": [
       "  0%|          | 0/4 [00:00<?, ?it/s]"
      ]
     },
     "metadata": {},
     "output_type": "display_data"
    },
    {
     "data": {
      "application/vnd.jupyter.widget-view+json": {
       "model_id": "fddd9db56e3b48d3b5f3c09a73556823",
       "version_major": 2,
       "version_minor": 0
      },
      "text/plain": [
       "  0%|          | 0/2 [00:00<?, ?it/s]"
      ]
     },
     "metadata": {},
     "output_type": "display_data"
    },
    {
     "data": {
      "application/vnd.jupyter.widget-view+json": {
       "model_id": "8d55d660b6104fd7adc3105990bbd963",
       "version_major": 2,
       "version_minor": 0
      },
      "text/plain": [
       "  0%|          | 0/1000 [00:00<?, ?it/s]"
      ]
     },
     "metadata": {},
     "output_type": "display_data"
    },
    {
     "data": {
      "application/vnd.jupyter.widget-view+json": {
       "model_id": "32e0ac9c83ca40e69354608fc5e4dbf6",
       "version_major": 2,
       "version_minor": 0
      },
      "text/plain": [
       "  0%|          | 0/1000 [00:00<?, ?it/s]"
      ]
     },
     "metadata": {},
     "output_type": "display_data"
    },
    {
     "data": {
      "application/vnd.jupyter.widget-view+json": {
       "model_id": "37d851d885374f90b11586dc86d76d2f",
       "version_major": 2,
       "version_minor": 0
      },
      "text/plain": [
       "  0%|          | 0/2 [00:00<?, ?it/s]"
      ]
     },
     "metadata": {},
     "output_type": "display_data"
    },
    {
     "data": {
      "application/vnd.jupyter.widget-view+json": {
       "model_id": "2df4eccb58554de19fd49a284e2099e2",
       "version_major": 2,
       "version_minor": 0
      },
      "text/plain": [
       "  0%|          | 0/1000 [00:00<?, ?it/s]"
      ]
     },
     "metadata": {},
     "output_type": "display_data"
    },
    {
     "data": {
      "application/vnd.jupyter.widget-view+json": {
       "model_id": "8f0d0e87b45047818adfda11346b221c",
       "version_major": 2,
       "version_minor": 0
      },
      "text/plain": [
       "  0%|          | 0/1000 [00:00<?, ?it/s]"
      ]
     },
     "metadata": {},
     "output_type": "display_data"
    },
    {
     "data": {
      "application/vnd.jupyter.widget-view+json": {
       "model_id": "2e928b7314fe4373a835e6d6d94c8ae3",
       "version_major": 2,
       "version_minor": 0
      },
      "text/plain": [
       "  0%|          | 0/2 [00:00<?, ?it/s]"
      ]
     },
     "metadata": {},
     "output_type": "display_data"
    },
    {
     "data": {
      "application/vnd.jupyter.widget-view+json": {
       "model_id": "0748d75e37084812a6d2f73e94a84e0e",
       "version_major": 2,
       "version_minor": 0
      },
      "text/plain": [
       "  0%|          | 0/1000 [00:00<?, ?it/s]"
      ]
     },
     "metadata": {},
     "output_type": "display_data"
    },
    {
     "data": {
      "application/vnd.jupyter.widget-view+json": {
       "model_id": "22e60606caf84251879205e32a57bba7",
       "version_major": 2,
       "version_minor": 0
      },
      "text/plain": [
       "  0%|          | 0/1000 [00:00<?, ?it/s]"
      ]
     },
     "metadata": {},
     "output_type": "display_data"
    },
    {
     "data": {
      "application/vnd.jupyter.widget-view+json": {
       "model_id": "8fda5815df8a415c927f5b57cf187f59",
       "version_major": 2,
       "version_minor": 0
      },
      "text/plain": [
       "  0%|          | 0/2 [00:00<?, ?it/s]"
      ]
     },
     "metadata": {},
     "output_type": "display_data"
    },
    {
     "data": {
      "application/vnd.jupyter.widget-view+json": {
       "model_id": "db9f409b74fb41b5b13429d2041a3178",
       "version_major": 2,
       "version_minor": 0
      },
      "text/plain": [
       "  0%|          | 0/1000 [00:00<?, ?it/s]"
      ]
     },
     "metadata": {},
     "output_type": "display_data"
    },
    {
     "data": {
      "application/vnd.jupyter.widget-view+json": {
       "model_id": "19c98dc7c5da490a98bb05d1f5291a3c",
       "version_major": 2,
       "version_minor": 0
      },
      "text/plain": [
       "  0%|          | 0/1000 [00:00<?, ?it/s]"
      ]
     },
     "metadata": {},
     "output_type": "display_data"
    }
   ],
   "source": [
    "step_data = []\n",
    "run_data = []\n",
    "choices = []\n",
    "\n",
    "for seed in tqdm(test_seeds):\n",
    "\n",
    "    for dt in tqdm(test_dts):\n",
    "    \n",
    "        for i, model in enumerate(tqdm(models, leave=True)):\n",
    "        \n",
    "            path = f'saved models/{model}'\n",
    "            \n",
    "            drl_model = MaskablePPO.load(path)\n",
    "        \n",
    "            env=envs[i]\n",
    "            #env.set_dt_scale(dt)\n",
    "            env.env_method(\"set_dt_scale\", dt)\n",
    "            env.seed(seed)\n",
    "            obs = env.reset()\n",
    "            \n",
    "            drl_lat_errors = []\n",
    "            drl_rewards = []\n",
    "            \n",
    "            for step in tqdm(range(n_steps), leave=True):\n",
    "                mask = np.array(env.env_method(\"action_masks\"))\n",
    "                action = drl_model.predict(obs, action_masks=mask)\n",
    "                qi= env.env_method(\"get_current_qi\")\n",
    "                choices.append([labels[i], int(qi[0]), int(action[0])])\n",
    "                obs, reward, dones, info = env.step(action)\n",
    "                drl_lat_errors.append(info[0]['latency_error'])\n",
    "                drl_rewards.append(reward[0])\n",
    "                step_data.append([seed, labels[i], dt, step, info[0]['power_per_mbit']])\n",
    "            \n",
    "            run_data.append([seed, labels[i], dt, np.mean(drl_rewards), np.count_nonzero(drl_lat_errors)/n_steps*100] )\n",
    "        \n",
    "step_df = pd.DataFrame(step_data, columns=['seed', 'model', 'dt', 'step','power'])\n",
    "run_df = pd.DataFrame(run_data, columns=['seed', 'model', 'dt', 'reward', 'error percent'])\n",
    "choices_df = pd.DataFrame(choices, columns=['metric','5qi', 'host'])"
   ]
  },
  {
   "cell_type": "code",
   "execution_count": 5,
   "id": "e2ccf740-bd9a-439a-b0e2-ddcbaa25e3f5",
   "metadata": {},
   "outputs": [],
   "source": [
    "palette=['black','c','deeppink','orange']\n",
    "palette = ['lime','dodgerblue']\n",
    "palette = ['lightgreen', 'lightskyblue']"
   ]
  },
  {
   "cell_type": "code",
   "execution_count": 6,
   "id": "1ddd31d7-3d9c-432a-b540-39efeefb1b60",
   "metadata": {},
   "outputs": [
    {
     "data": {
      "image/png": "[encoded data removed]",
      "text/plain": [
       "<Figure size 640x480 with 1 Axes>"
      ]
     },
     "metadata": {},
     "output_type": "display_data"
    }
   ],
   "source": [
    "sns.barplot(data=run_df, y='error percent', x='dt', hue='model', palette=palette, linewidth=.7, edgecolor=\"0\")\n",
    "plt.ylabel(\"latency error %\")\n",
    "plt.xlabel(\"average inter arrival time [s]\")\n",
    "labs = [\"scale1.5_cpu\",\"scale1.5_power\",\"scale1_cpu\",\"scale1_power\"]\n",
    "#plt.legend( loc=6, prop={'size': 8})\n",
    "#plt.grid()\n",
    "plt.show()"
   ]
  },
  {
   "cell_type": "code",
   "execution_count": 7,
   "id": "588e44e4-eb80-455f-a8e4-8f4ef817b066",
   "metadata": {},
   "outputs": [
    {
     "data": {
      "image/png": "[encoded data removed]",
      "text/plain": [
       "<Figure size 640x480 with 1 Axes>"
      ]
     },
     "metadata": {},
     "output_type": "display_data"
    }
   ],
   "source": [
    "sns.boxplot(data=step_df, y=\"power\", x='dt', hue=\"model\", showfliers=False, palette=palette)\n",
    "plt.ylabel(\"power consumption [W/Mbit]\")\n",
    "plt.xlabel(\"average inter arrival time [s]\")\n",
    "#plt.grid()\n",
    "plt.show()"
   ]
  },
  {
   "cell_type": "code",
   "execution_count": 8,
   "id": "c9179737-0eac-4a6a-a753-1a18a1bcc0f9",
   "metadata": {},
   "outputs": [
    {
     "data": {
      "image/png": "[encoded data removed]",
      "text/plain": [
       "<Figure size 640x480 with 1 Axes>"
      ]
     },
     "metadata": {},
     "output_type": "display_data"
    }
   ],
   "source": [
    "sns.barplot(data=run_df, y='reward', x='dt', hue='model', palette=palette)\n",
    "plt.ylabel(\"reward\")\n",
    "plt.xlabel(\"average inter arrival time [s]\")\n",
    "labs = [\"scale1.5_cpu\",\"scale1.5_power\",\"scale1_cpu\",\"scale1_power\"]\n",
    "#plt.legend( loc=6, prop={'size': 8})\n",
    "#plt.grid()\n",
    "plt.show()"
   ]
  },
  {
   "cell_type": "code",
   "execution_count": 9,
   "id": "654b3535-ae04-47a7-b2f9-dfe24403e0d4",
   "metadata": {},
   "outputs": [
    {
     "data": {
      "image/png": "[encoded data removed]",
      "text/plain": [
       "<Figure size 640x480 with 1 Axes>"
      ]
     },
     "metadata": {},
     "output_type": "display_data"
    }
   ],
   "source": [
    "sns.violinplot(data=step_df, y=\"power\", x='dt', hue=\"model\", palette=palette)\n",
    "#plt.ylim(0.01, 0.1)\n",
    "plt.grid()\n",
    "#plt.legend(prop={'size': 8})"
   ]
  },
  {
   "cell_type": "code",
   "execution_count": 10,
   "id": "3746e7ec-177f-43b5-9c28-d2acf9f67b49",
   "metadata": {},
   "outputs": [
    {
     "data": {
      "text/plain": [
       "Text(0.5, 1.0, 'CPU utilization')"
      ]
     },
     "execution_count": 10,
     "metadata": {},
     "output_type": "execute_result"
    },
    {
     "data": {
      "image/png": "[encoded data removed]",
      "text/plain": [
       "<Figure size 1200x400 with 4 Axes>"
      ]
     },
     "metadata": {},
     "output_type": "display_data"
    }
   ],
   "source": [
    "ccp = choices_df.loc[choices_df['metric'] == labels[0]]\n",
    "ccc = choices_df.loc[choices_df['metric'] == labels[1]]\n",
    "cdf_p = pd.crosstab(ccp['host'], ccp['5qi'])#.div(len(choices_df))\n",
    "cdf_c = pd.crosstab(ccc['host'], ccc['5qi'])#.div(len(choices_df))\n",
    "\n",
    "f, axes = plt.subplots(1, 2, figsize=(12, 4))\n",
    "sns.heatmap(cdf_p, annot=True, fmt='g',cmap=\"Greens\", linewidths=.5, linecolor='0', ax=axes[0]).set_title(labels[0])\n",
    "sns.heatmap(cdf_c, annot=True, fmt='g',cmap=\"Greens\", linewidths=.5, linecolor='0', ax=axes[1]).set_title(labels[1])"
   ]
  }
 ],
 "metadata": {
  "kernelspec": {
   "display_name": "Python 3 (ipykernel)",
   "language": "python",
   "name": "python3"
  },
  "language_info": {
   "codemirror_mode": {
    "name": "ipython",
    "version": 3
   },
   "file_extension": ".py",
   "mimetype": "text/x-python",
   "name": "python",
   "nbconvert_exporter": "python",
   "pygments_lexer": "ipython3",
   "version": "3.10.12"
  }
 },
 "nbformat": 4,
 "nbformat_minor": 5
}
