{
 "cells": [
  {
   "cell_type": "code",
   "execution_count": 1,
   "id": "5ba930dd-ff6a-44ab-bd05-106901b7c5c0",
   "metadata": {},
   "outputs": [
    {
     "name": "stderr",
     "output_type": "stream",
     "text": [
      "2024-05-16 16:41:33.907720: I tensorflow/core/util/port.cc:113] oneDNN custom operations are on. You may see slightly different numerical results due to floating-point round-off errors from different computation orders. To turn them off, set the environment variable `TF_ENABLE_ONEDNN_OPTS=0`.\n",
      "2024-05-16 16:41:33.909653: I external/local_tsl/tsl/cuda/cudart_stub.cc:31] Could not find cuda drivers on your machine, GPU will not be used.\n",
      "2024-05-16 16:41:33.935267: E external/local_xla/xla/stream_executor/cuda/cuda_dnn.cc:9261] Unable to register cuDNN factory: Attempting to register factory for plugin cuDNN when one has already been registered\n",
      "2024-05-16 16:41:33.935290: E external/local_xla/xla/stream_executor/cuda/cuda_fft.cc:607] Unable to register cuFFT factory: Attempting to register factory for plugin cuFFT when one has already been registered\n",
      "2024-05-16 16:41:33.935970: E external/local_xla/xla/stream_executor/cuda/cuda_blas.cc:1515] Unable to register cuBLAS factory: Attempting to register factory for plugin cuBLAS when one has already been registered\n",
      "2024-05-16 16:41:33.940048: I external/local_tsl/tsl/cuda/cudart_stub.cc:31] Could not find cuda drivers on your machine, GPU will not be used.\n",
      "2024-05-16 16:41:33.940535: I tensorflow/core/platform/cpu_feature_guard.cc:182] This TensorFlow binary is optimized to use available CPU instructions in performance-critical operations.\n",
      "To enable the following instructions: AVX2 AVX512F AVX512_VNNI FMA, in other operations, rebuild TensorFlow with the appropriate compiler flags.\n",
      "2024-05-16 16:41:34.500161: W tensorflow/compiler/tf2tensorrt/utils/py_utils.cc:38] TF-TRT Warning: Could not find TensorRT\n"
     ]
    }
   ],
   "source": [
    "import gymnasium as gym\n",
    "import numpy as np\n",
    "import json\n",
    "import math\n",
    "from gymnasium.wrappers import FlattenObservation, TimeLimit\n",
    "from stable_baselines3.common.vec_env import VecNormalize\n",
    "from stable_baselines3.common.env_util import make_vec_env\n",
    "from stable_baselines3.common.monitor import Monitor\n",
    "from stable_baselines3 import PPO, A2C, DQN, TD3\n",
    "from stable_baselines3.common.noise import NormalActionNoise\n",
    "from stable_baselines3.common.callbacks import BaseCallback, EvalCallback\n",
    "from sb3_contrib import MaskablePPO\n",
    "#from nfv_allocation_env import NfvAllocEnv\n",
    "from nfv_allocation_cpu_env import NfvAllocEnv\n",
    "from env_utils import PDUSession"
   ]
  },
  {
   "cell_type": "code",
   "execution_count": 2,
   "id": "5e87579a-cf53-47cf-b85a-76c370da0586",
   "metadata": {},
   "outputs": [
    {
     "name": "stdout",
     "output_type": "stream",
     "text": [
      "<env_utils.CloudHost object at 0x7c3081d26bf0>\n",
      "[<env_utils.EdgeHost object at 0x7c3081d26c80>, <env_utils.EdgeHost object at 0x7c3081d25870>, <env_utils.EdgeHost object at 0x7c3081d25840>]\n",
      "<env_utils.CloudHost object at 0x7c3081d25540>\n",
      "[<env_utils.EdgeHost object at 0x7c3081d251e0>, <env_utils.EdgeHost object at 0x7c3081d25240>, <env_utils.EdgeHost object at 0x7c3081d252d0>]\n",
      "<env_utils.CloudHost object at 0x7c3081d268f0>\n",
      "[<env_utils.EdgeHost object at 0x7c3081d26980>, <env_utils.EdgeHost object at 0x7c3081d269b0>, <env_utils.EdgeHost object at 0x7c3081d269e0>]\n",
      "<env_utils.CloudHost object at 0x7c3081d27e80>\n",
      "[<env_utils.EdgeHost object at 0x7c3081d27f10>, <env_utils.EdgeHost object at 0x7c3081d27f40>, <env_utils.EdgeHost object at 0x7c3081d26620>]\n",
      "<env_utils.CloudHost object at 0x7c31985ac520>\n",
      "[<env_utils.EdgeHost object at 0x7c31985ac430>, <env_utils.EdgeHost object at 0x7c31985afee0>, <env_utils.EdgeHost object at 0x7c31985af010>]\n",
      "<env_utils.CloudHost object at 0x7c31985aed40>\n",
      "[<env_utils.EdgeHost object at 0x7c31985aed70>, <env_utils.EdgeHost object at 0x7c31985afa30>, <env_utils.EdgeHost object at 0x7c31985afa60>]\n",
      "<env_utils.CloudHost object at 0x7c319af199c0>\n",
      "[<env_utils.EdgeHost object at 0x7c319af19f30>, <env_utils.EdgeHost object at 0x7c319af1a8f0>, <env_utils.EdgeHost object at 0x7c3081d68040>]\n",
      "<env_utils.CloudHost object at 0x7c3081d682e0>\n",
      "[<env_utils.EdgeHost object at 0x7c3081d68370>, <env_utils.EdgeHost object at 0x7c3081d683a0>, <env_utils.EdgeHost object at 0x7c3081d683d0>]\n"
     ]
    },
    {
     "name": "stderr",
     "output_type": "stream",
     "text": [
      "/home/ubuntu/.local/lib/python3.10/site-packages/gymnasium/core.py:311: UserWarning: \u001b[33mWARN: env.set_gamma to get variables from other wrappers is deprecated and will be removed in v1.0, to get this variable you can do `env.unwrapped.set_gamma` for environment variables or `env.get_wrapper_attr('set_gamma')` that will search the reminding wrappers.\u001b[0m\n",
      "  logger.warn(\n"
     ]
    }
   ],
   "source": [
    "qi_dict = {3:0.6, 5:0.3, 9:0.1}\n",
    "env_kwargs={'config_file': 'synth_host_models.json', 'metric':'cpu', 'dt_scale': 1.5, 'duration_mean':40, 'duration_scale':5, 'qi_dict': qi_dict}\n",
    "log_dir = \"logs/alloc/PPO_sb3_.monitor.csv\"\n",
    "info_keys = ['qos_breach','power_per_mbit','latency_error','allocation_error','total_power','total_traffic','reward']\n",
    "seed = 2\n",
    "parallel_envs = 8\n",
    "gamma = 0.05\n",
    "\n",
    "def make_env(**env_par):\n",
    "    env = NfvAllocEnv(**env_par)\n",
    "    # flatten observation space from Dict to vector\n",
    "    #env = FlattenObservation(env)\n",
    "    # add time limit to create episodes\n",
    "    env = TimeLimit(env, 1000)\n",
    "    # add Monitor wrapper (already added by make_vec_env?)\n",
    "    env = Monitor(env, log_dir, info_keywords=tuple(info_keys))\n",
    "    env.set_gamma(gamma)\n",
    "    return env\n",
    "\n",
    "# Instantiate the env\n",
    "vec_env = make_vec_env(make_env, n_envs=parallel_envs, seed=seed, env_kwargs=env_kwargs)\n",
    "vec_env = VecNormalize(vec_env)\n",
    "#vec_env.seed(seed)\n",
    "#env = make_env(**env_kwargs)\n",
    "#env.print_env()\n",
    "\n",
    "model_name = f\"PPO_scale{env_kwargs['dt_scale']}_env{parallel_envs}_{env_kwargs['config_file'].split('_')[0]}_{env_kwargs['metric']}_seed{seed}_g{math.modf(gamma)[0]}_qi359_p631\""
   ]
  },
  {
   "cell_type": "code",
   "execution_count": 3,
   "id": "dd3e5817-7772-46f4-aa23-3fcef073c419",
   "metadata": {},
   "outputs": [
    {
     "name": "stdout",
     "output_type": "stream",
     "text": [
      "PPO_scale1.5_env8_nuc_power_seed2_g05_qi359_p631\n"
     ]
    }
   ],
   "source": [
    "#eval_env = make_vec_env(make_env, n_envs=1, env_kwargs=env_kwargs)\n",
    "#eval_env = make_env(**env_kwargs)\n",
    "#eval_callback = EvalCallback(eval_env, log_path= log_dir, eval_freq=500, deterministic=True, render=False)\n",
    "model_name = f\"PPO_scale{env_kwargs['dt_scale']}_env{parallel_envs}_{env_kwargs['config_file'].split('_')[0]}_{env_kwargs['metric']}_seed{seed}_g{str(gamma%1)[2:]}_qi359_p631\"\n",
    "print(model_name)"
   ]
  },
  {
   "cell_type": "code",
   "execution_count": 4,
   "id": "a5dd0af3-74ed-4906-91a5-23eec32da656",
   "metadata": {},
   "outputs": [],
   "source": [
    "class TensorboardCallback(BaseCallback):\n",
    "    \"\"\"\n",
    "    Custom callback for plotting additional values in tensorboard.\n",
    "    \"\"\"\n",
    "\n",
    "    def __init__(self, verbose=0):\n",
    "        super().__init__(verbose)\n",
    "\n",
    "    def _on_step(self) -> bool:\n",
    "        # Log power per mbit\n",
    "        ppm = self.training_env.env_method(\"power_per_mbit\")[0]\n",
    "        self.logger.record(\"rollout/power_per_mbit\", ppm)\n",
    "\n",
    "        le = self.training_env.get_attr(\"latency_error\")[0]\n",
    "        self.logger.record(\"rollout/latency_error\", max(le,0) ) #positive values are latencies better than the required\n",
    "        return True"
   ]
  },
  {
   "cell_type": "code",
   "execution_count": 5,
   "id": "7c117216-5252-43ec-ba5e-7d9fdd4d04b3",
   "metadata": {},
   "outputs": [
    {
     "data": {
      "application/vnd.jupyter.widget-view+json": {
       "model_id": "879e4f482fb0473baf8691307485dd21",
       "version_major": 2,
       "version_minor": 0
      },
      "text/plain": [
       "Output()"
      ]
     },
     "metadata": {},
     "output_type": "display_data"
    },
    {
     "data": {
      "text/html": [
       "<pre style=\"white-space:pre;overflow-x:auto;line-height:normal;font-family:Menlo,'DejaVu Sans Mono',consolas,'Courier New',monospace\">/home/ubuntu/.local/lib/python3.10/site-packages/gymnasium/core.py:311: UserWarning: <span style=\"color: #808000; text-decoration-color: #808000\">WARN: env.action_masks to get </span>\n",
       "<span style=\"color: #808000; text-decoration-color: #808000\">variables from other wrappers is deprecated and will be removed in v1.0, to get this variable you can do </span>\n",
       "<span style=\"color: #808000; text-decoration-color: #808000\">`env.unwrapped.action_masks` for environment variables or `env.get_wrapper_attr('action_masks')` that will search </span>\n",
       "<span style=\"color: #808000; text-decoration-color: #808000\">the reminding wrappers.</span>\n",
       "  logger.warn(\n",
       "</pre>\n"
      ],
      "text/plain": [
       "/home/ubuntu/.local/lib/python3.10/site-packages/gymnasium/core.py:311: UserWarning: \u001b[33mWARN: env.action_masks to get \u001b[0m\n",
       "\u001b[33mvariables from other wrappers is deprecated and will be removed in v1.0, to get this variable you can do \u001b[0m\n",
       "\u001b[33m`env.unwrapped.action_masks` for environment variables or `env.get_wrapper_attr('action_masks')` that will search \u001b[0m\n",
       "\u001b[33mthe reminding wrappers.\u001b[0m\n",
       "  logger.warn(\n"
      ]
     },
     "metadata": {},
     "output_type": "display_data"
    },
    {
     "data": {
      "text/html": [
       "<pre style=\"white-space:pre;overflow-x:auto;line-height:normal;font-family:Menlo,'DejaVu Sans Mono',consolas,'Courier New',monospace\">/home/ubuntu/.local/lib/python3.10/site-packages/gymnasium/core.py:311: UserWarning: <span style=\"color: #808000; text-decoration-color: #808000\">WARN: env.power_per_mbit to </span>\n",
       "<span style=\"color: #808000; text-decoration-color: #808000\">get variables from other wrappers is deprecated and will be removed in v1.0, to get this variable you can do </span>\n",
       "<span style=\"color: #808000; text-decoration-color: #808000\">`env.unwrapped.power_per_mbit` for environment variables or `env.get_wrapper_attr('power_per_mbit')` that will </span>\n",
       "<span style=\"color: #808000; text-decoration-color: #808000\">search the reminding wrappers.</span>\n",
       "  logger.warn(\n",
       "</pre>\n"
      ],
      "text/plain": [
       "/home/ubuntu/.local/lib/python3.10/site-packages/gymnasium/core.py:311: UserWarning: \u001b[33mWARN: env.power_per_mbit to \u001b[0m\n",
       "\u001b[33mget variables from other wrappers is deprecated and will be removed in v1.0, to get this variable you can do \u001b[0m\n",
       "\u001b[33m`env.unwrapped.power_per_mbit` for environment variables or `env.get_wrapper_attr('power_per_mbit')` that will \u001b[0m\n",
       "\u001b[33msearch the reminding wrappers.\u001b[0m\n",
       "  logger.warn(\n"
      ]
     },
     "metadata": {},
     "output_type": "display_data"
    },
    {
     "data": {
      "text/html": [
       "<pre style=\"white-space:pre;overflow-x:auto;line-height:normal;font-family:Menlo,'DejaVu Sans Mono',consolas,'Courier New',monospace\">/home/ubuntu/.local/lib/python3.10/site-packages/gymnasium/core.py:311: UserWarning: <span style=\"color: #808000; text-decoration-color: #808000\">WARN: env.latency_error to get</span>\n",
       "<span style=\"color: #808000; text-decoration-color: #808000\">variables from other wrappers is deprecated and will be removed in v1.0, to get this variable you can do </span>\n",
       "<span style=\"color: #808000; text-decoration-color: #808000\">`env.unwrapped.latency_error` for environment variables or `env.get_wrapper_attr('latency_error')` that will search</span>\n",
       "<span style=\"color: #808000; text-decoration-color: #808000\">the reminding wrappers.</span>\n",
       "  logger.warn(\n",
       "</pre>\n"
      ],
      "text/plain": [
       "/home/ubuntu/.local/lib/python3.10/site-packages/gymnasium/core.py:311: UserWarning: \u001b[33mWARN: env.latency_error to get\u001b[0m\n",
       "\u001b[33mvariables from other wrappers is deprecated and will be removed in v1.0, to get this variable you can do \u001b[0m\n",
       "\u001b[33m`env.unwrapped.latency_error` for environment variables or `env.get_wrapper_attr('latency_error')` that will search\u001b[0m\n",
       "\u001b[33mthe reminding wrappers.\u001b[0m\n",
       "  logger.warn(\n"
      ]
     },
     "metadata": {},
     "output_type": "display_data"
    },
    {
     "data": {
      "text/html": [
       "<pre style=\"white-space:pre;overflow-x:auto;line-height:normal;font-family:Menlo,'DejaVu Sans Mono',consolas,'Courier New',monospace\"></pre>\n"
      ],
      "text/plain": []
     },
     "metadata": {},
     "output_type": "display_data"
    },
    {
     "data": {
      "text/html": [
       "<pre style=\"white-space:pre;overflow-x:auto;line-height:normal;font-family:Menlo,'DejaVu Sans Mono',consolas,'Courier New',monospace\">\n",
       "</pre>\n"
      ],
      "text/plain": [
       "\n"
      ]
     },
     "metadata": {},
     "output_type": "display_data"
    }
   ],
   "source": [
    "# Train the agent\n",
    "total_timesteps = 3_000_000\n",
    "\n",
    "model = MaskablePPO('MlpPolicy', vec_env, gamma=0.99, seed=seed, verbose=0, tensorboard_log=\"./nfv_allocation_tensorboard/\")\n",
    "model.learn(total_timesteps, progress_bar=True, tb_log_name=\"PPO_scale1.5_env8_synth_cpu_seed2_g05_qi359_p631\", callback=TensorboardCallback());"
   ]
  },
  {
   "cell_type": "code",
   "execution_count": 6,
   "id": "1fd5d20c-587a-4b5e-8f5c-d30c74c91494",
   "metadata": {},
   "outputs": [],
   "source": [
    "curriculum = False\n",
    "\n",
    "if curriculum:\n",
    "    curriculum_timesteps = 1_500_000\n",
    "\n",
    "    vec_env.env_method(\"set_dt_scale\", 1)\n",
    "    model.learn(total_timesteps, progress_bar=True, tb_log_name=\"PPO_scale1_C1\", callback=TensorboardCallback());"
   ]
  },
  {
   "cell_type": "code",
   "execution_count": 7,
   "id": "671a707b-53c0-4d03-b48c-f6aefe0732cc",
   "metadata": {},
   "outputs": [],
   "source": [
    "#from stable_baselines3.common.monitor import load_results\n",
    "#import pandas as pd\n",
    "#df = load_results('logs/alloc/')\n",
    "#info_df = pd.DataFrame(df, columns=info_keys)"
   ]
  },
  {
   "cell_type": "code",
   "execution_count": 8,
   "id": "dfbe4678-a82e-4837-99ea-0f4f6a474570",
   "metadata": {},
   "outputs": [],
   "source": [
    "#info_df.plot(subplots=True)"
   ]
  },
  {
   "cell_type": "code",
   "execution_count": 9,
   "id": "f19c2231-1071-422b-a3b0-d048108d900c",
   "metadata": {},
   "outputs": [],
   "source": [
    "#vec_env.env_method(\"print_env\")"
   ]
  },
  {
   "cell_type": "code",
   "execution_count": 10,
   "id": "a635b664-926e-4154-8b27-a8f2bb57cd36",
   "metadata": {},
   "outputs": [],
   "source": [
    "#vec_env.autogen_session(False)\n",
    "#vec_env.env_method(\"autogen_session\", \"mu\", 0.1)\n",
    "#vec_env.set_session(PDUSession(0, 100, 50, 0), 1)\n",
    "\n",
    "#action, _states = model.predict(vec_env.get_obs())\n",
    "#print(action)"
   ]
  },
  {
   "cell_type": "code",
   "execution_count": 11,
   "id": "2e25232e-9b58-425c-aceb-2259a8ed393f",
   "metadata": {},
   "outputs": [],
   "source": [
    "model.save('saved models/PPO_scale1.5_env8_nuc_power_seed2_g05_qi359_p631')"
   ]
  },
  {
   "cell_type": "code",
   "execution_count": null,
   "id": "0f26ca87-b3b1-4b03-82c3-73367039b0c5",
   "metadata": {},
   "outputs": [],
   "source": []
  },
  {
   "cell_type": "code",
   "execution_count": null,
   "id": "4d1b4ec5-039c-467d-a563-659aadb0b3f6",
   "metadata": {},
   "outputs": [],
   "source": []
  }
 ],
 "metadata": {
  "kernelspec": {
   "display_name": "Python 3 (ipykernel)",
   "language": "python",
   "name": "python3"
  },
  "language_info": {
   "codemirror_mode": {
    "name": "ipython",
    "version": 3
   },
   "file_extension": ".py",
   "mimetype": "text/x-python",
   "name": "python",
   "nbconvert_exporter": "python",
   "pygments_lexer": "ipython3",
   "version": "3.10.12"
  }
 },
 "nbformat": 4,
 "nbformat_minor": 5
}
