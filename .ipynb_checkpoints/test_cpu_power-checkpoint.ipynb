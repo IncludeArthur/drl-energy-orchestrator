{
 "cells": [
  {
   "cell_type": "code",
   "execution_count": 1,
   "id": "34396a2d-9750-4799-98dd-3f320617493a",
   "metadata": {},
   "outputs": [
    {
     "name": "stderr",
     "output_type": "stream",
     "text": [
      "2024-05-23 16:32:42.687413: I tensorflow/core/util/port.cc:113] oneDNN custom operations are on. You may see slightly different numerical results due to floating-point round-off errors from different computation orders. To turn them off, set the environment variable `TF_ENABLE_ONEDNN_OPTS=0`.\n",
      "2024-05-23 16:32:42.691685: I external/local_tsl/tsl/cuda/cudart_stub.cc:31] Could not find cuda drivers on your machine, GPU will not be used.\n",
      "2024-05-23 16:32:42.745422: E external/local_xla/xla/stream_executor/cuda/cuda_dnn.cc:9261] Unable to register cuDNN factory: Attempting to register factory for plugin cuDNN when one has already been registered\n",
      "2024-05-23 16:32:42.745461: E external/local_xla/xla/stream_executor/cuda/cuda_fft.cc:607] Unable to register cuFFT factory: Attempting to register factory for plugin cuFFT when one has already been registered\n",
      "2024-05-23 16:32:42.749486: E external/local_xla/xla/stream_executor/cuda/cuda_blas.cc:1515] Unable to register cuBLAS factory: Attempting to register factory for plugin cuBLAS when one has already been registered\n",
      "2024-05-23 16:32:42.763255: I external/local_tsl/tsl/cuda/cudart_stub.cc:31] Could not find cuda drivers on your machine, GPU will not be used.\n",
      "2024-05-23 16:32:42.764025: I tensorflow/core/platform/cpu_feature_guard.cc:182] This TensorFlow binary is optimized to use available CPU instructions in performance-critical operations.\n",
      "To enable the following instructions: AVX2 AVX512F AVX512_VNNI FMA, in other operations, rebuild TensorFlow with the appropriate compiler flags.\n",
      "2024-05-23 16:32:43.462168: W tensorflow/compiler/tf2tensorrt/utils/py_utils.cc:38] TF-TRT Warning: Could not find TensorRT\n"
     ]
    }
   ],
   "source": [
    "import numpy as np\n",
    "import pandas as pd\n",
    "import json\n",
    "import matplotlib.pyplot as plt\n",
    "from tqdm.auto import tqdm\n",
    "import seaborn as sns\n",
    "from env_utils import PDUSession\n",
    "from nfv_allocation_cpu_env import NfvAllocEnv\n",
    "from sb3_contrib import MaskablePPO"
   ]
  },
  {
   "cell_type": "code",
   "execution_count": 2,
   "id": "ee23377a-add9-4177-9e90-d7449b333e68",
   "metadata": {},
   "outputs": [
    {
     "name": "stdout",
     "output_type": "stream",
     "text": [
      "<env_utils.CloudHost object at 0x751d9c2d3490>\n",
      "[<env_utils.EdgeHost object at 0x751d9c2d26e0>, <env_utils.EdgeHost object at 0x751d9c2d2710>]\n",
      "<env_utils.CloudHost object at 0x751d9c2d2800>\n",
      "[<env_utils.EdgeHost object at 0x751d9c2d2aa0>, <env_utils.EdgeHost object at 0x751d9c2d2ad0>]\n"
     ]
    }
   ],
   "source": [
    "qi_dict = {3:0.6, 5:0.3, 9:0.1}\n",
    "env_par_power={'config_file': 'synth_host_models.json', 'metric':'power', 'dt_scale': 1.5, 'duration_mean':40, 'duration_scale':5, 'qi_dict': qi_dict}\n",
    "env_par_cpu={'config_file': 'synth_host_models.json', 'metric':'cpu', 'dt_scale': 1.5, 'duration_mean':40, 'duration_scale':5, 'qi_dict': qi_dict}\n",
    "seed = 10\n",
    "gamma = 0.05\n",
    "n_steps = 10_000\n",
    "\n",
    "env_power = NfvAllocEnv(**env_par_power)\n",
    "env_cpu = NfvAllocEnv(**env_par_cpu)\n",
    "\n",
    "f = open('5qi_table.json')\n",
    "qi_table = json.load(f)\n",
    "\n",
    "model_power = \"PPO_scale1.5_env8_synth_power_seed2_g05_qi359_p631\"\n",
    "model_cpu = \"PPO_scale1.5_env8_synth_cpu_seed2_g05_qi359_p631\"   "
   ]
  },
  {
   "cell_type": "code",
   "execution_count": 3,
   "id": "a9908dcc-cc8e-4448-8781-6bb5b21b4141",
   "metadata": {},
   "outputs": [
    {
     "data": {
      "application/vnd.jupyter.widget-view+json": {
       "model_id": "2c3b31e6b0e0448ead1ddc4f012a8c9c",
       "version_major": 2,
       "version_minor": 0
      },
      "text/plain": [
       "  0%|          | 0/4 [00:00<?, ?it/s]"
      ]
     },
     "metadata": {},
     "output_type": "display_data"
    },
    {
     "data": {
      "application/vnd.jupyter.widget-view+json": {
       "model_id": "07b046a5853a4dc89ab8e5965737c2a7",
       "version_major": 2,
       "version_minor": 0
      },
      "text/plain": [
       "  0%|          | 0/10000 [00:00<?, ?it/s]"
      ]
     },
     "metadata": {},
     "output_type": "display_data"
    },
    {
     "ename": "ValueError",
     "evalue": "Error: Unexpected observation shape (3, 7) for Box environment, please use (4, 7) or (n_env, 4, 7) for the observation shape.",
     "output_type": "error",
     "traceback": [
      "\u001b[0;31m---------------------------------------------------------------------------\u001b[0m",
      "\u001b[0;31mValueError\u001b[0m                                Traceback (most recent call last)",
      "Cell \u001b[0;32mIn[3], line 22\u001b[0m\n\u001b[1;32m     20\u001b[0m \u001b[38;5;28;01mfor\u001b[39;00m step \u001b[38;5;129;01min\u001b[39;00m tqdm(\u001b[38;5;28mrange\u001b[39m(n_steps), leave\u001b[38;5;241m=\u001b[39m\u001b[38;5;28;01mTrue\u001b[39;00m):\n\u001b[1;32m     21\u001b[0m     mask \u001b[38;5;241m=\u001b[39m env\u001b[38;5;241m.\u001b[39maction_masks()\n\u001b[0;32m---> 22\u001b[0m     action, _states \u001b[38;5;241m=\u001b[39m \u001b[43mdrl_model\u001b[49m\u001b[38;5;241;43m.\u001b[39;49m\u001b[43mpredict\u001b[49m\u001b[43m(\u001b[49m\u001b[43mobs\u001b[49m\u001b[43m,\u001b[49m\u001b[43m \u001b[49m\u001b[43maction_masks\u001b[49m\u001b[38;5;241;43m=\u001b[39;49m\u001b[43mmask\u001b[49m\u001b[43m)\u001b[49m\n\u001b[1;32m     23\u001b[0m     obs, reward, _, _, info \u001b[38;5;241m=\u001b[39m env\u001b[38;5;241m.\u001b[39mstep(action)\n\u001b[1;32m     24\u001b[0m     drl_lat_errors\u001b[38;5;241m.\u001b[39mappend(info[\u001b[38;5;124m'\u001b[39m\u001b[38;5;124mlatency_error\u001b[39m\u001b[38;5;124m'\u001b[39m])\n",
      "File \u001b[0;32m~/.local/lib/python3.10/site-packages/sb3_contrib/ppo_mask/ppo_mask.py:380\u001b[0m, in \u001b[0;36mMaskablePPO.predict\u001b[0;34m(self, observation, state, episode_start, deterministic, action_masks)\u001b[0m\n\u001b[1;32m    359\u001b[0m \u001b[38;5;28;01mdef\u001b[39;00m \u001b[38;5;21mpredict\u001b[39m(\n\u001b[1;32m    360\u001b[0m     \u001b[38;5;28mself\u001b[39m,\n\u001b[1;32m    361\u001b[0m     observation: np\u001b[38;5;241m.\u001b[39mndarray,\n\u001b[0;32m   (...)\u001b[0m\n\u001b[1;32m    365\u001b[0m     action_masks: Optional[np\u001b[38;5;241m.\u001b[39mndarray] \u001b[38;5;241m=\u001b[39m \u001b[38;5;28;01mNone\u001b[39;00m,\n\u001b[1;32m    366\u001b[0m ) \u001b[38;5;241m-\u001b[39m\u001b[38;5;241m>\u001b[39m Tuple[np\u001b[38;5;241m.\u001b[39mndarray, Optional[Tuple[np\u001b[38;5;241m.\u001b[39mndarray, \u001b[38;5;241m.\u001b[39m\u001b[38;5;241m.\u001b[39m\u001b[38;5;241m.\u001b[39m]]]:\n\u001b[1;32m    367\u001b[0m \u001b[38;5;250m    \u001b[39m\u001b[38;5;124;03m\"\"\"\u001b[39;00m\n\u001b[1;32m    368\u001b[0m \u001b[38;5;124;03m    Get the policy action from an observation (and optional hidden state).\u001b[39;00m\n\u001b[1;32m    369\u001b[0m \u001b[38;5;124;03m    Includes sugar-coating to handle different observations (e.g. normalizing images).\u001b[39;00m\n\u001b[0;32m   (...)\u001b[0m\n\u001b[1;32m    378\u001b[0m \u001b[38;5;124;03m        (used in recurrent policies)\u001b[39;00m\n\u001b[1;32m    379\u001b[0m \u001b[38;5;124;03m    \"\"\"\u001b[39;00m\n\u001b[0;32m--> 380\u001b[0m     \u001b[38;5;28;01mreturn\u001b[39;00m \u001b[38;5;28;43mself\u001b[39;49m\u001b[38;5;241;43m.\u001b[39;49m\u001b[43mpolicy\u001b[49m\u001b[38;5;241;43m.\u001b[39;49m\u001b[43mpredict\u001b[49m\u001b[43m(\u001b[49m\u001b[43mobservation\u001b[49m\u001b[43m,\u001b[49m\u001b[43m \u001b[49m\u001b[43mstate\u001b[49m\u001b[43m,\u001b[49m\u001b[43m \u001b[49m\u001b[43mepisode_start\u001b[49m\u001b[43m,\u001b[49m\u001b[43m \u001b[49m\u001b[43mdeterministic\u001b[49m\u001b[43m,\u001b[49m\u001b[43m \u001b[49m\u001b[43maction_masks\u001b[49m\u001b[38;5;241;43m=\u001b[39;49m\u001b[43maction_masks\u001b[49m\u001b[43m)\u001b[49m\n",
      "File \u001b[0;32m~/.local/lib/python3.10/site-packages/sb3_contrib/common/maskable/policies.py:287\u001b[0m, in \u001b[0;36mMaskableActorCriticPolicy.predict\u001b[0;34m(self, observation, state, episode_start, deterministic, action_masks)\u001b[0m\n\u001b[1;32m    284\u001b[0m \u001b[38;5;66;03m# Switch to eval mode (this affects batch norm / dropout)\u001b[39;00m\n\u001b[1;32m    285\u001b[0m \u001b[38;5;28mself\u001b[39m\u001b[38;5;241m.\u001b[39mset_training_mode(\u001b[38;5;28;01mFalse\u001b[39;00m)\n\u001b[0;32m--> 287\u001b[0m observation, vectorized_env \u001b[38;5;241m=\u001b[39m \u001b[38;5;28;43mself\u001b[39;49m\u001b[38;5;241;43m.\u001b[39;49m\u001b[43mobs_to_tensor\u001b[49m\u001b[43m(\u001b[49m\u001b[43mobservation\u001b[49m\u001b[43m)\u001b[49m\n\u001b[1;32m    289\u001b[0m \u001b[38;5;28;01mwith\u001b[39;00m th\u001b[38;5;241m.\u001b[39mno_grad():\n\u001b[1;32m    290\u001b[0m     actions \u001b[38;5;241m=\u001b[39m \u001b[38;5;28mself\u001b[39m\u001b[38;5;241m.\u001b[39m_predict(observation, deterministic\u001b[38;5;241m=\u001b[39mdeterministic, action_masks\u001b[38;5;241m=\u001b[39maction_masks)\n",
      "File \u001b[0;32m~/.local/lib/python3.10/site-packages/stable_baselines3/common/policies.py:270\u001b[0m, in \u001b[0;36mBaseModel.obs_to_tensor\u001b[0;34m(self, observation)\u001b[0m\n\u001b[1;32m    266\u001b[0m     observation \u001b[38;5;241m=\u001b[39m np\u001b[38;5;241m.\u001b[39marray(observation)\n\u001b[1;32m    268\u001b[0m \u001b[38;5;28;01mif\u001b[39;00m \u001b[38;5;129;01mnot\u001b[39;00m \u001b[38;5;28misinstance\u001b[39m(observation, \u001b[38;5;28mdict\u001b[39m):\n\u001b[1;32m    269\u001b[0m     \u001b[38;5;66;03m# Dict obs need to be handled separately\u001b[39;00m\n\u001b[0;32m--> 270\u001b[0m     vectorized_env \u001b[38;5;241m=\u001b[39m \u001b[43mis_vectorized_observation\u001b[49m\u001b[43m(\u001b[49m\u001b[43mobservation\u001b[49m\u001b[43m,\u001b[49m\u001b[43m \u001b[49m\u001b[38;5;28;43mself\u001b[39;49m\u001b[38;5;241;43m.\u001b[39;49m\u001b[43mobservation_space\u001b[49m\u001b[43m)\u001b[49m\n\u001b[1;32m    271\u001b[0m     \u001b[38;5;66;03m# Add batch dimension if needed\u001b[39;00m\n\u001b[1;32m    272\u001b[0m     observation \u001b[38;5;241m=\u001b[39m observation\u001b[38;5;241m.\u001b[39mreshape((\u001b[38;5;241m-\u001b[39m\u001b[38;5;241m1\u001b[39m, \u001b[38;5;241m*\u001b[39m\u001b[38;5;28mself\u001b[39m\u001b[38;5;241m.\u001b[39mobservation_space\u001b[38;5;241m.\u001b[39mshape))  \u001b[38;5;66;03m# type: ignore[misc]\u001b[39;00m\n",
      "File \u001b[0;32m~/.local/lib/python3.10/site-packages/stable_baselines3/common/utils.py:399\u001b[0m, in \u001b[0;36mis_vectorized_observation\u001b[0;34m(observation, observation_space)\u001b[0m\n\u001b[1;32m    397\u001b[0m \u001b[38;5;28;01mfor\u001b[39;00m space_type, is_vec_obs_func \u001b[38;5;129;01min\u001b[39;00m is_vec_obs_func_dict\u001b[38;5;241m.\u001b[39mitems():\n\u001b[1;32m    398\u001b[0m     \u001b[38;5;28;01mif\u001b[39;00m \u001b[38;5;28misinstance\u001b[39m(observation_space, space_type):\n\u001b[0;32m--> 399\u001b[0m         \u001b[38;5;28;01mreturn\u001b[39;00m \u001b[43mis_vec_obs_func\u001b[49m\u001b[43m(\u001b[49m\u001b[43mobservation\u001b[49m\u001b[43m,\u001b[49m\u001b[43m \u001b[49m\u001b[43mobservation_space\u001b[49m\u001b[43m)\u001b[49m  \u001b[38;5;66;03m# type: ignore[operator]\u001b[39;00m\n\u001b[1;32m    400\u001b[0m \u001b[38;5;28;01melse\u001b[39;00m:\n\u001b[1;32m    401\u001b[0m     \u001b[38;5;66;03m# for-else happens if no break is called\u001b[39;00m\n\u001b[1;32m    402\u001b[0m     \u001b[38;5;28;01mraise\u001b[39;00m \u001b[38;5;167;01mValueError\u001b[39;00m(\u001b[38;5;124mf\u001b[39m\u001b[38;5;124m\"\u001b[39m\u001b[38;5;124mError: Cannot determine if the observation is vectorized with the space type \u001b[39m\u001b[38;5;132;01m{\u001b[39;00mobservation_space\u001b[38;5;132;01m}\u001b[39;00m\u001b[38;5;124m.\u001b[39m\u001b[38;5;124m\"\u001b[39m)\n",
      "File \u001b[0;32m~/.local/lib/python3.10/site-packages/stable_baselines3/common/utils.py:266\u001b[0m, in \u001b[0;36mis_vectorized_box_observation\u001b[0;34m(observation, observation_space)\u001b[0m\n\u001b[1;32m    264\u001b[0m     \u001b[38;5;28;01mreturn\u001b[39;00m \u001b[38;5;28;01mTrue\u001b[39;00m\n\u001b[1;32m    265\u001b[0m \u001b[38;5;28;01melse\u001b[39;00m:\n\u001b[0;32m--> 266\u001b[0m     \u001b[38;5;28;01mraise\u001b[39;00m \u001b[38;5;167;01mValueError\u001b[39;00m(\n\u001b[1;32m    267\u001b[0m         \u001b[38;5;124mf\u001b[39m\u001b[38;5;124m\"\u001b[39m\u001b[38;5;124mError: Unexpected observation shape \u001b[39m\u001b[38;5;132;01m{\u001b[39;00mobservation\u001b[38;5;241m.\u001b[39mshape\u001b[38;5;132;01m}\u001b[39;00m\u001b[38;5;124m for \u001b[39m\u001b[38;5;124m\"\u001b[39m\n\u001b[1;32m    268\u001b[0m         \u001b[38;5;241m+\u001b[39m \u001b[38;5;124mf\u001b[39m\u001b[38;5;124m\"\u001b[39m\u001b[38;5;124mBox environment, please use \u001b[39m\u001b[38;5;132;01m{\u001b[39;00mobservation_space\u001b[38;5;241m.\u001b[39mshape\u001b[38;5;132;01m}\u001b[39;00m\u001b[38;5;124m \u001b[39m\u001b[38;5;124m\"\u001b[39m\n\u001b[1;32m    269\u001b[0m         \u001b[38;5;241m+\u001b[39m \u001b[38;5;124m\"\u001b[39m\u001b[38;5;124mor (n_env, \u001b[39m\u001b[38;5;132;01m{}\u001b[39;00m\u001b[38;5;124m) for the observation shape.\u001b[39m\u001b[38;5;124m\"\u001b[39m\u001b[38;5;241m.\u001b[39mformat(\u001b[38;5;124m\"\u001b[39m\u001b[38;5;124m, \u001b[39m\u001b[38;5;124m\"\u001b[39m\u001b[38;5;241m.\u001b[39mjoin(\u001b[38;5;28mmap\u001b[39m(\u001b[38;5;28mstr\u001b[39m, observation_space\u001b[38;5;241m.\u001b[39mshape)))\n\u001b[1;32m    270\u001b[0m     )\n",
      "\u001b[0;31mValueError\u001b[0m: Error: Unexpected observation shape (3, 7) for Box environment, please use (4, 7) or (n_env, 4, 7) for the observation shape."
     ]
    }
   ],
   "source": [
    "step_data = []\n",
    "run_data = []\n",
    "\n",
    "for seed in tqdm([10,11,12,13]):\n",
    "\n",
    "    # ----- POWER MODEL -----\n",
    "    model = model_power\n",
    "    env = env_power\n",
    "\n",
    "    path = f'saved models/{model}'\n",
    "        \n",
    "    drl_model = MaskablePPO.load(path)\n",
    "    \n",
    "    #env.set_gamma(gamma/100)\n",
    "    obs, info = env.reset(seed=seed)\n",
    "        \n",
    "    drl_lat_errors = []\n",
    "    drl_rewards = []\n",
    "        \n",
    "    for step in tqdm(range(n_steps), leave=True):\n",
    "        mask = env.action_masks()\n",
    "        action, _states = drl_model.predict(obs, action_masks=mask)\n",
    "        obs, reward, _, _, info = env.step(action)\n",
    "        drl_lat_errors.append(info['latency_error'])\n",
    "        drl_rewards.append(reward)\n",
    "        step_data.append([seed, 'power', step, info['power_per_mbit']])\n",
    "        \n",
    "    run_data.append([seed, 'power', np.mean(drl_rewards), np.count_nonzero(drl_lat_errors)/n_steps*100] )\n",
    "\n",
    "    # ----- CPU MODEL -----\n",
    "    model = model_cpu\n",
    "    env = env_cpu\n",
    "\n",
    "    path = f'saved models/{model}'\n",
    "        \n",
    "    drl_model = MaskablePPO.load(path)\n",
    "    \n",
    "    #env.set_gamma(gamma/100)\n",
    "    obs, info = env.reset(seed=seed)\n",
    "        \n",
    "    drl_lat_errors = []\n",
    "    drl_rewards = []\n",
    "        \n",
    "    for step in tqdm(range(n_steps), leave=True):\n",
    "        mask = env.action_masks()\n",
    "        action, _states = drl_model.predict(obs, action_masks=mask)\n",
    "        obs, reward, _, _, info = env.step(action)\n",
    "        drl_lat_errors.append(info['latency_error'])\n",
    "        drl_rewards.append(reward)\n",
    "        step_data.append([seed, 'cpu', step, info['power_per_mbit']])\n",
    "        \n",
    "    run_data.append([seed, 'cpu', np.mean(drl_rewards), np.count_nonzero(drl_lat_errors)/n_steps*100] )\n",
    "        \n",
    "step_df = pd.DataFrame(step_data, columns=['seed', 'model', 'step','power'])\n",
    "run_df = pd.DataFrame(run_data, columns=['seed', 'model', 'reward', 'error percent'])"
   ]
  },
  {
   "cell_type": "code",
   "execution_count": null,
   "id": "e2ccf740-bd9a-439a-b0e2-ddcbaa25e3f5",
   "metadata": {},
   "outputs": [],
   "source": [
    "palette=['black','c','deeppink','orange']\n",
    "palette = None"
   ]
  },
  {
   "cell_type": "code",
   "execution_count": null,
   "id": "1ddd31d7-3d9c-432a-b540-39efeefb1b60",
   "metadata": {},
   "outputs": [],
   "source": [
    "sns.barplot(data=run_df, y='error percent', hue='model', palette=palette)\n",
    "plt.ylabel(\"latency error %\")\n",
    "plt.xlabel(\"model\")\n",
    "labs = [\"scale1.5_cpu\",\"scale1.5_power\",\"scale1_cpu\",\"scale1_power\"]\n",
    "plt.legend( loc=7, prop={'size': 8})\n",
    "plt.grid()\n",
    "plt.show()"
   ]
  },
  {
   "cell_type": "code",
   "execution_count": null,
   "id": "c9179737-0eac-4a6a-a753-1a18a1bcc0f9",
   "metadata": {},
   "outputs": [],
   "source": [
    "sns.barplot(data=run_df, y='reward', hue='model', palette=palette)\n",
    "plt.ylabel(\"reward\")\n",
    "plt.xlabel(\"model\")\n",
    "labs = [\"scale1.5_cpu\",\"scale1.5_power\",\"scale1_cpu\",\"scale1_power\"]\n",
    "plt.legend( loc=6, prop={'size': 8})\n",
    "plt.grid()\n",
    "plt.show()"
   ]
  },
  {
   "cell_type": "code",
   "execution_count": null,
   "id": "588e44e4-eb80-455f-a8e4-8f4ef817b066",
   "metadata": {},
   "outputs": [],
   "source": [
    "sns.boxplot(data=step_df, y=\"power\", hue=\"model\", showfliers=False, palette=palette)"
   ]
  },
  {
   "cell_type": "code",
   "execution_count": null,
   "id": "654b3535-ae04-47a7-b2f9-dfe24403e0d4",
   "metadata": {},
   "outputs": [],
   "source": [
    "sns.violinplot(data=step_df, y=\"power\", hue=\"model\", palette=palette)\n",
    "plt.ylim(0, 0.1)\n",
    "plt.grid()\n",
    "plt.legend(prop={'size': 8})"
   ]
  },
  {
   "cell_type": "code",
   "execution_count": null,
   "id": "4c7d781c-3b64-4fc6-a074-345a840dcfe2",
   "metadata": {},
   "outputs": [],
   "source": []
  }
 ],
 "metadata": {
  "kernelspec": {
   "display_name": "Python 3 (ipykernel)",
   "language": "python",
   "name": "python3"
  },
  "language_info": {
   "codemirror_mode": {
    "name": "ipython",
    "version": 3
   },
   "file_extension": ".py",
   "mimetype": "text/x-python",
   "name": "python",
   "nbconvert_exporter": "python",
   "pygments_lexer": "ipython3",
   "version": "3.10.12"
  }
 },
 "nbformat": 4,
 "nbformat_minor": 5
}
