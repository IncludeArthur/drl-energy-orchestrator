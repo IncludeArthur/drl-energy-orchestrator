{
 "cells": [
  {
   "cell_type": "code",
   "execution_count": null,
   "id": "b1d55cfb-1b33-4c17-8449-0fb71d8dc013",
   "metadata": {},
   "outputs": [],
   "source": [
    "from nfv_env import NfvEnv"
   ]
  },
  {
   "cell_type": "code",
   "execution_count": null,
   "id": "ec8928da-7d57-40d9-b14b-7f145a09bcca",
   "metadata": {},
   "outputs": [],
   "source": [
    "env = FlattenObservation(NfvEnv())\n",
    "\n",
    "obs = env.reset()\n",
    "print(obs)"
   ]
  },
  {
   "cell_type": "code",
   "execution_count": null,
   "id": "388534a8-9380-48e8-8c29-78fe8359f25b",
   "metadata": {},
   "outputs": [],
   "source": [
    "ADD_INSTANCE = 2\n",
    "\n",
    "obs, reward, done, info = vec_env.step(action)\n",
    "\n",
    "print(\"obs=\", obs, \"reward=\", reward, \"termianted=\", done)\n",
    "print(info)"
   ]
  }
 ],
 "metadata": {
  "kernelspec": {
   "display_name": "Python 3 (ipykernel)",
   "language": "python",
   "name": "python3"
  },
  "language_info": {
   "codemirror_mode": {
    "name": "ipython",
    "version": 3
   },
   "file_extension": ".py",
   "mimetype": "text/x-python",
   "name": "python",
   "nbconvert_exporter": "python",
   "pygments_lexer": "ipython3",
   "version": "3.10.12"
  }
 },
 "nbformat": 4,
 "nbformat_minor": 5
}
