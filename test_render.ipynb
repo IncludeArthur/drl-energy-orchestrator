{
 "cells": [
  {
   "cell_type": "code",
   "execution_count": 1,
   "id": "2dc14e82-94c6-4f08-a73f-106e8565d105",
   "metadata": {},
   "outputs": [
    {
     "name": "stderr",
     "output_type": "stream",
     "text": [
      "2025-02-19 10:55:12.714377: I tensorflow/core/util/port.cc:113] oneDNN custom operations are on. You may see slightly different numerical results due to floating-point round-off errors from different computation orders. To turn them off, set the environment variable `TF_ENABLE_ONEDNN_OPTS=0`.\n",
      "2025-02-19 10:55:12.716226: I external/local_tsl/tsl/cuda/cudart_stub.cc:31] Could not find cuda drivers on your machine, GPU will not be used.\n",
      "2025-02-19 10:55:12.742061: E external/local_xla/xla/stream_executor/cuda/cuda_dnn.cc:9261] Unable to register cuDNN factory: Attempting to register factory for plugin cuDNN when one has already been registered\n",
      "2025-02-19 10:55:12.742086: E external/local_xla/xla/stream_executor/cuda/cuda_fft.cc:607] Unable to register cuFFT factory: Attempting to register factory for plugin cuFFT when one has already been registered\n",
      "2025-02-19 10:55:12.742758: E external/local_xla/xla/stream_executor/cuda/cuda_blas.cc:1515] Unable to register cuBLAS factory: Attempting to register factory for plugin cuBLAS when one has already been registered\n",
      "2025-02-19 10:55:12.746886: I external/local_tsl/tsl/cuda/cudart_stub.cc:31] Could not find cuda drivers on your machine, GPU will not be used.\n",
      "2025-02-19 10:55:12.747319: I tensorflow/core/platform/cpu_feature_guard.cc:182] This TensorFlow binary is optimized to use available CPU instructions in performance-critical operations.\n",
      "To enable the following instructions: AVX2 AVX512F AVX512_VNNI FMA, in other operations, rebuild TensorFlow with the appropriate compiler flags.\n",
      "2025-02-19 10:55:13.292913: W tensorflow/compiler/tf2tensorrt/utils/py_utils.cc:38] TF-TRT Warning: Could not find TensorRT\n"
     ]
    }
   ],
   "source": [
    "import numpy as np\n",
    "import pandas as pd\n",
    "import json\n",
    "import matplotlib.pyplot as plt\n",
    "from IPython import display\n",
    "from tqdm.auto import tqdm\n",
    "import seaborn as sns\n",
    "from env_utils import PDUSession\n",
    "from nfv_allocation_cpu_env import NfvAllocEnv\n",
    "from nfv_allocation_cpu_env_duration import NfvAllocEnvDuration\n",
    "from nfv_allocation_cpu_env_rew import NfvAllocEnvRew\n",
    "from stable_baselines3 import PPO, A2C, DQN, TD3\n",
    "from sb3_contrib import MaskablePPO, RecurrentPPO\n",
    "from stable_baselines3.common.vec_env import DummyVecEnv\n",
    "from stable_baselines3.common.vec_env import VecNormalize\n",
    "from sb3_contrib.common.maskable.evaluation import evaluate_policy"
   ]
  },
  {
   "cell_type": "code",
   "execution_count": 2,
   "id": "8fb407df-ea3c-43bd-bdbc-a5c22657321f",
   "metadata": {},
   "outputs": [],
   "source": [
    "qi_dict = {3:0.3, 5:0.4, 9:0.3}\n",
    "#qi_dict = {3:0.6, 5:0.3, 9:0.1}\n",
    "env_par={'config_file': 'nuc_host_models.json', 'obs_metric':'power', 'rw_metric':'power', 'flat_lerr': False, \n",
    "         'dt_scale': 1.0, 'duration_mean':40, 'duration_scale':5, 'render_mode':'human', 'qi_dict': qi_dict}\n",
    "\n",
    "n_steps = 1_000\n",
    "seed = 2\n",
    "\n",
    "step_data = []\n",
    "run_data = []"
   ]
  },
  {
   "cell_type": "code",
   "execution_count": 3,
   "id": "c67858c9-3ad7-4532-88db-a9374a44bcdd",
   "metadata": {},
   "outputs": [],
   "source": [
    "drl_model = MaskablePPO.load(path='saved models/PPO_rew10_net128_scale1.5_env8_nuc_power_qi359_p343')\n",
    "drl_model_cpu = MaskablePPO.load(path='saved models/PPO_rew10_net128_scale1.5_env8_nuc_cpu_qi359_p343')\n",
    "\n",
    "f = open('5qi_table.json')\n",
    "qi_table = json.load(f)"
   ]
  },
  {
   "cell_type": "code",
   "execution_count": 4,
   "id": "35d52b48-e38a-4b8f-8d35-e02138a9d9c8",
   "metadata": {},
   "outputs": [
    {
     "data": {
      "application/vnd.jupyter.widget-view+json": {
       "model_id": "fcfac679d5e74cf584087cd1710faf1e",
       "version_major": 2,
       "version_minor": 0
      },
      "text/plain": [
       "  0%|          | 0/1000 [00:00<?, ?it/s]"
      ]
     },
     "metadata": {},
     "output_type": "display_data"
    }
   ],
   "source": [
    "#DRL POWER\n",
    "env = DummyVecEnv([lambda: NfvAllocEnvRew(**env_par)])\n",
    "env = VecNormalize(env, norm_reward=False) \n",
    "\n",
    "env.seed(seed)\n",
    "obs = env.reset()\n",
    "\n",
    "for step in tqdm(range(n_steps)):\n",
    "    \n",
    "    mask = np.array(env.env_method(\"action_masks\"))\n",
    "    action = drl_model.predict(obs, action_masks=mask)\n",
    "    qi= env.env_method(\"get_current_qi\")\n",
    "    obs, reward, dones, info = env.step(action)\n",
    "\n",
    "env.close()"
   ]
  },
  {
   "cell_type": "markdown",
   "id": "3fd1720d-e785-4f61-861a-3e656ca0ef85",
   "metadata": {},
   "source": [
    "The rendering will be shown in a different window in the system running the notebook. It does not work for remote access via browser"
   ]
  },
  {
   "cell_type": "code",
   "execution_count": null,
   "id": "680b2bd5-2bc2-4189-99ea-b6932d52c802",
   "metadata": {},
   "outputs": [],
   "source": []
  }
 ],
 "metadata": {
  "kernelspec": {
   "display_name": "Python 3 (ipykernel)",
   "language": "python",
   "name": "python3"
  },
  "language_info": {
   "codemirror_mode": {
    "name": "ipython",
    "version": 3
   },
   "file_extension": ".py",
   "mimetype": "text/x-python",
   "name": "python",
   "nbconvert_exporter": "python",
   "pygments_lexer": "ipython3",
   "version": "3.10.12"
  }
 },
 "nbformat": 4,
 "nbformat_minor": 5
}
